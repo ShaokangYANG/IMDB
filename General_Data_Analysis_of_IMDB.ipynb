{
  "nbformat": 4,
  "nbformat_minor": 0,
  "metadata": {
    "kernelspec": {
      "display_name": "Python 3",
      "language": "python",
      "name": "python3"
    },
    "language_info": {
      "codemirror_mode": {
        "name": "ipython",
        "version": 3
      },
      "file_extension": ".py",
      "mimetype": "text/x-python",
      "name": "python",
      "nbconvert_exporter": "python",
      "pygments_lexer": "ipython3",
      "version": "3.8.3"
    },
    "colab": {
      "name": "General Data Analysis of IMDB.ipynb",
      "provenance": [],
      "machine_shape": "hm",
      "include_colab_link": true
    }
  },
  "cells": [
    {
      "cell_type": "markdown",
      "metadata": {
        "id": "view-in-github",
        "colab_type": "text"
      },
      "source": [
        "<a href=\"https://colab.research.google.com/github/ShaokangYANG/IMDB/blob/main/General_Data_Analysis_of_IMDB.ipynb\" target=\"_parent\"><img src=\"https://colab.research.google.com/assets/colab-badge.svg\" alt=\"Open In Colab\"/></a>"
      ]
    },
    {
      "cell_type": "markdown",
      "metadata": {
        "id": "DyuLW6LChion"
      },
      "source": [
        "### 1. Download dataset frome Kaggle"
      ]
    },
    {
      "cell_type": "code",
      "metadata": {
        "colab": {
          "resources": {
            "http://localhost:8080/nbextensions/google.colab/files.js": {
              "data": "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",
              "ok": true,
              "headers": [
                [
                  "content-type",
                  "application/javascript"
                ]
              ],
              "status": 200,
              "status_text": ""
            }
          },
          "base_uri": "https://localhost:8080/",
          "height": 89
        },
        "id": "5YmDvHM6hioo",
        "outputId": "408bc70c-d56d-4c2a-b988-9d5289762d00"
      },
      "source": [
        "from google.colab import files\n",
        "files.upload() #upload kaggle.json"
      ],
      "execution_count": 2,
      "outputs": [
        {
          "output_type": "display_data",
          "data": {
            "text/html": [
              "\n",
              "     <input type=\"file\" id=\"files-c70b132c-e769-4d55-8802-7ed78ff54f79\" name=\"files[]\" multiple disabled\n",
              "        style=\"border:none\" />\n",
              "     <output id=\"result-c70b132c-e769-4d55-8802-7ed78ff54f79\">\n",
              "      Upload widget is only available when the cell has been executed in the\n",
              "      current browser session. Please rerun this cell to enable.\n",
              "      </output>\n",
              "      <script src=\"/nbextensions/google.colab/files.js\"></script> "
            ],
            "text/plain": [
              "<IPython.core.display.HTML object>"
            ]
          },
          "metadata": {
            "tags": []
          }
        },
        {
          "output_type": "stream",
          "text": [
            "Saving kaggle.json to kaggle.json\n"
          ],
          "name": "stdout"
        },
        {
          "output_type": "execute_result",
          "data": {
            "text/plain": [
              "{'kaggle.json': b'{\"username\":\"mountainsky\",\"key\":\"210d17aaec699030b82766a96422d60c\"}'}"
            ]
          },
          "metadata": {
            "tags": []
          },
          "execution_count": 2
        }
      ]
    },
    {
      "cell_type": "code",
      "metadata": {
        "id": "wGASNtsR9oDq"
      },
      "source": [
        "!mkdir -p ~/.kaggle\n",
        "!cp kaggle.json ~/.kaggle/\n",
        "\n",
        "!chmod 600 ~/.kaggle/kaggle.json\n",
        "!kaggle datasets download -d ashirwadsangwan/imdb-dataset"
      ],
      "execution_count": null,
      "outputs": []
    },
    {
      "cell_type": "markdown",
      "metadata": {
        "id": "0wiWuEE5hioq"
      },
      "source": [
        "### 2. Unzip files\n",
        "Get all the files in the compressed package\n",
        "\n",
        "Unzip files in a loop to the specified directory\n",
        "\n",
        "Close the file and free up memory\n"
      ]
    },
    {
      "cell_type": "code",
      "metadata": {
        "colab": {
          "base_uri": "https://localhost:8080/"
        },
        "id": "HIy2-oe2hv9R",
        "outputId": "81d9fe49-02af-45ce-85dc-6c6b7c8ce31e"
      },
      "source": [
        "from zipfile import ZipFile\n",
        "file_name = \"imdb-dataset.zip\"\n",
        "\n",
        "with ZipFile(file_name, \"r\") as zip:\n",
        "  zip.extractall()\n",
        "  print(\"The dataset has been unzipped\")"
      ],
      "execution_count": 4,
      "outputs": [
        {
          "output_type": "stream",
          "text": [
            "The dataset has been unzipped\n"
          ],
          "name": "stdout"
        }
      ]
    },
    {
      "cell_type": "code",
      "metadata": {
        "colab": {
          "base_uri": "https://localhost:8080/"
        },
        "id": "65HtvUGih8a-",
        "outputId": "640dfd03-a83a-45de-c9b1-b31a4a8ea7bf"
      },
      "source": [
        "!ls"
      ],
      "execution_count": 5,
      "outputs": [
        {
          "output_type": "stream",
          "text": [
            "imdb-dataset.zip    title.akas.tsv\t  title.principals.tsv.gz\n",
            "kaggle.json\t    title.akas.tsv.gz\t  title.ratings.tsv\n",
            "name.basics.tsv     title.basics.tsv\t  title.ratings.tsv.gz\n",
            "name.basics.tsv.gz  title.basics.tsv.gz\n",
            "sample_data\t    title.principals.tsv\n"
          ],
          "name": "stdout"
        }
      ]
    },
    {
      "cell_type": "code",
      "metadata": {
        "colab": {
          "base_uri": "https://localhost:8080/"
        },
        "id": "eOEHSdJmwGpQ",
        "outputId": "cf69c513-7308-42f9-bcdb-abddf9b63a19"
      },
      "source": [
        "!pip install pyspark"
      ],
      "execution_count": 6,
      "outputs": [
        {
          "output_type": "stream",
          "text": [
            "Collecting pyspark\n",
            "\u001b[?25l  Downloading https://files.pythonhosted.org/packages/89/db/e18cfd78e408de957821ec5ca56de1250645b05f8523d169803d8df35a64/pyspark-3.1.2.tar.gz (212.4MB)\n",
            "\u001b[K     |████████████████████████████████| 212.4MB 43kB/s \n",
            "\u001b[?25hCollecting py4j==0.10.9\n",
            "\u001b[?25l  Downloading https://files.pythonhosted.org/packages/9e/b6/6a4fb90cd235dc8e265a6a2067f2a2c99f0d91787f06aca4bcf7c23f3f80/py4j-0.10.9-py2.py3-none-any.whl (198kB)\n",
            "\u001b[K     |████████████████████████████████| 204kB 18.2MB/s \n",
            "\u001b[?25hBuilding wheels for collected packages: pyspark\n",
            "  Building wheel for pyspark (setup.py) ... \u001b[?25l\u001b[?25hdone\n",
            "  Created wheel for pyspark: filename=pyspark-3.1.2-py2.py3-none-any.whl size=212880768 sha256=816bfcde79e6d0b97339723aec2f0acb914607df30f83e455ba496d7bd7a716c\n",
            "  Stored in directory: /root/.cache/pip/wheels/40/1b/2c/30f43be2627857ab80062bef1527c0128f7b4070b6b2d02139\n",
            "Successfully built pyspark\n",
            "Installing collected packages: py4j, pyspark\n",
            "Successfully installed py4j-0.10.9 pyspark-3.1.2\n"
          ],
          "name": "stdout"
        }
      ]
    },
    {
      "cell_type": "markdown",
      "metadata": {
        "id": "CApup4Ushior"
      },
      "source": [
        "Print all tsv files"
      ]
    },
    {
      "cell_type": "code",
      "metadata": {
        "colab": {
          "base_uri": "https://localhost:8080/"
        },
        "id": "E1Wp7Xk_hior",
        "outputId": "c8e1d835-a9a2-46d1-83e2-ebdf5afe84b6"
      },
      "source": [
        "import os\n",
        "all_files = os.listdir()\n",
        "print([csv_file for csv_file in all_files if '.tsv' == csv_file[-4:]])"
      ],
      "execution_count": 20,
      "outputs": [
        {
          "output_type": "stream",
          "text": [
            "['title.principals.tsv', 'name.basics.tsv', 'title.basics.tsv', 'title.akas.tsv', 'title.ratings.tsv']\n"
          ],
          "name": "stdout"
        }
      ]
    },
    {
      "cell_type": "markdown",
      "metadata": {
        "id": "2HypTtrDhios"
      },
      "source": [
        "### 3. Load data & Overview"
      ]
    },
    {
      "cell_type": "code",
      "metadata": {
        "id": "XHMJ9Fmmhiot"
      },
      "source": [
        "import pandas as pd\n",
        "import numpy as np\n",
        "import warnings\n",
        "warnings.filterwarnings(\"ignore\")\n",
        "\n",
        "from pyspark import SparkConf, SparkContext\n",
        "from pyspark.sql import SparkSession\n",
        "from pyspark.sql.functions import collect_set, col, count\n",
        "from pyspark.sql import SQLContext"
      ],
      "execution_count": 39,
      "outputs": []
    },
    {
      "cell_type": "code",
      "metadata": {
        "id": "xrXS-_sKwkb1"
      },
      "source": [
        "conf = SparkConf().setAppName(\"MarketBasket\")\n",
        "conf = (conf.setMaster('local[*]')\n",
        "        .set('spark.executor.memory', '4G')\n",
        "        .set('spark.driver.memory', '45G')\n",
        "        .set('spark.driver.maxResultSize', '10G'))\n",
        "sc = SparkContext(conf=conf)"
      ],
      "execution_count": 9,
      "outputs": []
    },
    {
      "cell_type": "code",
      "metadata": {
        "id": "PwlIzT3MvcQd"
      },
      "source": [
        "name_basics = 'name.basics.tsv.gz'\n",
        "name_basics = pd.read_csv(name_basics, sep = '\\t', low_memory=True)\n",
        "\n",
        "title_akas = 'title.akas.tsv.gz'\n",
        "title_akas = pd.read_csv(title_akas, sep = '\\t', low_memory=True)\n",
        "\n",
        "title_basics ='title.basics.tsv.gz'\n",
        "title_basics = pd.read_csv(title_basics, sep = '\\t', low_memory=True)\n",
        "\n",
        "title_principals='title.principals.tsv.gz'\n",
        "title_principals = pd.read_csv(title_principals,sep = '\\t', low_memory=True)\n",
        "\n",
        "title_rating='title.ratings.tsv.gz'\n",
        "title_rating = pd.read_csv(title_rating, sep = '\\t', low_memory=True)\n"
      ],
      "execution_count": 10,
      "outputs": []
    },
    {
      "cell_type": "code",
      "metadata": {
        "colab": {
          "base_uri": "https://localhost:8080/"
        },
        "id": "kCALi2Wnhiot",
        "outputId": "e31dbb59-5a3c-44f3-ee09-184fc10ff857"
      },
      "source": [
        "print('Shape, Columns: \\n')\n",
        "print('name_basics: {}, \\n{} \\n'.format(name_basics.shape, name_basics.columns))\n",
        "print('title_akas: {}, \\n{} \\n'.format(title_akas.shape, title_akas.columns))\n",
        "print('title_basics: {}, \\n{} \\n'.format(title_basics.shape, title_basics.columns))\n",
        "print('title_principals: {}, \\n{} \\n'.format(title_principals.shape, title_principals.columns))\n",
        "print('title_rating: {}, \\n{} \\n'.format(title_rating.shape, title_rating.columns))"
      ],
      "execution_count": 11,
      "outputs": [
        {
          "output_type": "stream",
          "text": [
            "Shape, Columns: \n",
            "\n",
            "name_basics: (9711022, 6), \n",
            "Index(['nconst', 'primaryName', 'birthYear', 'deathYear', 'primaryProfession',\n",
            "       'knownForTitles'],\n",
            "      dtype='object') \n",
            "\n",
            "title_akas: (19344171, 8), \n",
            "Index(['titleId', 'ordering', 'title', 'region', 'language', 'types',\n",
            "       'attributes', 'isOriginalTitle'],\n",
            "      dtype='object') \n",
            "\n",
            "title_basics: (6326545, 9), \n",
            "Index(['tconst', 'titleType', 'primaryTitle', 'originalTitle', 'isAdult',\n",
            "       'startYear', 'endYear', 'runtimeMinutes', 'genres'],\n",
            "      dtype='object') \n",
            "\n",
            "title_principals: (36499704, 6), \n",
            "Index(['tconst', 'ordering', 'nconst', 'category', 'job', 'characters'], dtype='object') \n",
            "\n",
            "title_rating: (993821, 3), \n",
            "Index(['tconst', 'averageRating', 'numVotes'], dtype='object') \n",
            "\n"
          ],
          "name": "stdout"
        }
      ]
    },
    {
      "cell_type": "markdown",
      "metadata": {
        "id": "HfK6wFuMhiou"
      },
      "source": [
        "### 4. Data Analysing\n",
        "Table 'name_basics' contains information about the personnel involved, including nconst, primaryName, birthYear, deathYear, primaryProfession, knownForTitles.\n",
        "\n",
        "First calculate how many functions there are and draw a picture"
      ]
    },
    {
      "cell_type": "code",
      "metadata": {
        "id": "4ja9FwHShiou"
      },
      "source": [
        "import matplotlib.pyplot as plt"
      ],
      "execution_count": 12,
      "outputs": []
    },
    {
      "cell_type": "code",
      "metadata": {
        "colab": {
          "base_uri": "https://localhost:8080/",
          "height": 288
        },
        "id": "ue0ahHuahiou",
        "outputId": "19c31d63-88c5-4cb7-aa3a-d1d678bb1324"
      },
      "source": [
        "def name_basics_func0():\n",
        "    primaryProfession = name_basics['primaryProfession'].dropna()\n",
        "    name_basics['primaryProfession'] = name_basics['primaryProfession'].astype('str')\n",
        "    num_individual_profession = name_basics['primaryProfession'].map(lambda x: len(x.split(',')))\n",
        "    name_basics['num_individual_profession'] = num_individual_profession\n",
        "    name_basics['num_individual_profession'].value_counts().plot(kind='bar')\n",
        "    plt.xlabel('num_individual_profession')\n",
        "    plt.ylabel('frequency')\n",
        "    plt.show()\n",
        "    new_name_basics0 = name_basics[['birthYear', 'num_individual_profession']]\n",
        "    return new_name_basics0\n",
        "\n",
        "new_name_basics0 = name_basics_func0()"
      ],
      "execution_count": 13,
      "outputs": [
        {
          "output_type": "display_data",
          "data": {
            "image/png": "[encoded data removed]",
            "text/plain": [
              "<Figure size 432x288 with 1 Axes>"
            ]
          },
          "metadata": {
            "tags": [],
            "needs_background": "light"
          }
        }
      ]
    },
    {
      "cell_type": "code",
      "metadata": {
        "colab": {
          "base_uri": "https://localhost:8080/"
        },
        "id": "NS-aRfzz7XV_",
        "outputId": "24f6c419-cc2f-4754-ab0e-4f1f23c06f68"
      },
      "source": [
        "! pip install apyori\n",
        "from apyori import apriori"
      ],
      "execution_count": 23,
      "outputs": [
        {
          "output_type": "stream",
          "text": [
            "Collecting apyori\n",
            "  Downloading https://files.pythonhosted.org/packages/5e/62/5ffde5c473ea4b033490617ec5caa80d59804875ad3c3c57c0976533a21a/apyori-1.1.2.tar.gz\n",
            "Building wheels for collected packages: apyori\n",
            "  Building wheel for apyori (setup.py) ... \u001b[?25l\u001b[?25hdone\n",
            "  Created wheel for apyori: filename=apyori-1.1.2-cp37-none-any.whl size=5975 sha256=2b8fa47fb54112c6c0a630b4bcc50cc2af3fc2083e29f2158c9a16661aa9b6ac\n",
            "  Stored in directory: /root/.cache/pip/wheels/5d/92/bb/474bbadbc8c0062b9eb168f69982a0443263f8ab1711a8cad0\n",
            "Successfully built apyori\n",
            "Installing collected packages: apyori\n",
            "Successfully installed apyori-1.1.2\n"
          ],
          "name": "stdout"
        }
      ]
    },
    {
      "cell_type": "markdown",
      "metadata": {
        "id": "6nI88AJQhiov"
      },
      "source": [
        "Calculate and plot the frequency of various occupations"
      ]
    },
    {
      "cell_type": "code",
      "metadata": {
        "colab": {
          "base_uri": "https://localhost:8080/",
          "height": 710
        },
        "id": "GSkUPgvNhiov",
        "outputId": "ac3816e2-43c6-4a49-aa0c-062fe18c2ca4"
      },
      "source": [
        "def name_basics_func1():\n",
        "    frequency_profession_dict = dict()\n",
        "    for primaryProfession in name_basics['primaryProfession']:\n",
        "        for pro in primaryProfession.split(','):\n",
        "            if pro == 'nan':\n",
        "                continue\n",
        "            try:\n",
        "                frequency_profession_dict[pro] += 1\n",
        "            except KeyError:\n",
        "                frequency_profession_dict[pro] = 1\n",
        "\n",
        "    frequency_profession_df = pd.DataFrame(frequency_profession_dict.values(),\n",
        "                                           index=frequency_profession_dict.keys(),\n",
        "                                           columns=['frequency']).sort_values('frequency', ascending=False)\n",
        "    frequency_profession_df.plot(kind='barh', figsize=(10, 10))\n",
        "    plt.show()\n",
        "    \n",
        "    res = apriori(name_basics[name_basics['primaryProfession'] != 'nan']['primaryProfession'].map(lambda x: x.split(',')).values)\n",
        "    print('Aprior')\n",
        "    for rule in res:\n",
        "        print(str(rule))\n",
        "    return frequency_profession_df\n",
        "    \n",
        "    \n",
        "frequency_profession_df = name_basics_func1()"
      ],
      "execution_count": 24,
      "outputs": [
        {
          "output_type": "display_data",
          "data": {
            "image/png": "[encoded data removed]",
            "text/plain": [
              "<Figure size 720x720 with 1 Axes>"
            ]
          },
          "metadata": {
            "tags": [],
            "needs_background": "light"
          }
        },
        {
          "output_type": "stream",
          "text": [
            "Aprior\n",
            "RelationRecord(items=frozenset({'actor'}), support=0.29146703106806504, ordered_statistics=[OrderedStatistic(items_base=frozenset(), items_add=frozenset({'actor'}), confidence=0.29146703106806504, lift=1.0)])\n",
            "RelationRecord(items=frozenset({'actress'}), support=0.17475387990800134, ordered_statistics=[OrderedStatistic(items_base=frozenset(), items_add=frozenset({'actress'}), confidence=0.17475387990800134, lift=1.0)])\n",
            "RelationRecord(items=frozenset({'miscellaneous'}), support=0.1301110227651442, ordered_statistics=[OrderedStatistic(items_base=frozenset(), items_add=frozenset({'miscellaneous'}), confidence=0.1301110227651442, lift=1.0)])\n",
            "RelationRecord(items=frozenset({'producer'}), support=0.1090734250988492, ordered_statistics=[OrderedStatistic(items_base=frozenset(), items_add=frozenset({'producer'}), confidence=0.1090734250988492, lift=1.0)])\n"
          ],
          "name": "stdout"
        }
      ]
    },
    {
      "cell_type": "markdown",
      "metadata": {
        "id": "briPTdyShiow"
      },
      "source": [
        "An excellent work is usually translated into different languages by different channels and then sold in different regions. Table 'title_akas' has the feature 'region' for sale and the lack of feature 'language', so the feature 'language' can be ignored\n",
        "\n",
        "First of all, we can get the total number of works"
      ]
    },
    {
      "cell_type": "code",
      "metadata": {
        "colab": {
          "base_uri": "https://localhost:8080/",
          "height": 1000
        },
        "id": "xEWRDYPrhiow",
        "outputId": "94919a1b-7be1-4464-edb0-11edaabf7cee"
      },
      "source": [
        "MIN_SUPP = 0.1\n",
        "MIN_CONF = 0.1\n",
        "MIN_LIFT = 0.1\n",
        "\n",
        "def title_akas_func0():\n",
        "    num_different_works = len(title_akas.titleId.unique())\n",
        "    print('There are {} works in total'.format(num_different_works))\n",
        "    print('On average, each work is available in {:.3f} languages'.format(len(title_akas) / num_different_works))\n",
        "    title_akas['frequency'] = 0\n",
        "    frequency_versions_df = title_akas[['titleId', 'frequency']].groupby('titleId').count()\n",
        "\n",
        "    frequency_versions_df['frequency'].value_counts().iloc[:20].plot(kind='barh')\n",
        "    plt.xlabel('frequency')\n",
        "    plt.ylabel('num_versions')\n",
        "    print('The relationship between the number of language versions and frequency is shown in the figure below')\n",
        "    plt.show()\n",
        "\n",
        "    title_akas[['region', 'frequency']].groupby('region').count().sort_values('frequency').iloc[-20:].plot(kind='barh')\n",
        "    plt.xlabel('frequency')\n",
        "    plt.ylabel('region')\n",
        "    print('Which regions usually have translations?')\n",
        "    plt.show()\n",
        "\n",
        "    print('Top ten most widely disseminated works:')\n",
        "    top10 = frequency_versions_df.sort_values('frequency', ascending=False)[: 10]\n",
        "    originalTitle_top10 = list()\n",
        "    for tt in top10.index:\n",
        "        originalTitle_top10.append(\n",
        "            title_akas[title_akas['titleId'] == tt].sort_values('isOriginalTitle', ascending=False).title.values[0])\n",
        "    top10['Title'] = originalTitle_top10\n",
        "    display(top10)\n",
        "    \n",
        "    frequency_versions_df.columns = ['num_akas']\n",
        "    frequency_versions_df['tconst'] = frequency_versions_df.index\n",
        "    frequency_versions_df = frequency_versions_df.reset_index()[['tconst', 'num_akas']]\n",
        "    \n",
        "    print('Analysis of propagation paths using Aprior')\n",
        "    res = apriori(transactions=title_akas[title_akas['types'] != '\\\\N']['types'].map(lambda x: x.split(',')).values,\n",
        "                  min_support=MIN_SUPP,\n",
        "                  min_confidence=MIN_CONF,\n",
        "                  min_lift=MIN_LIFT)\n",
        "    print('Aprior')\n",
        "    for rule in res:\n",
        "        print(str(rule))\n",
        "    return frequency_versions_df\n",
        "\n",
        "new_title_akas = title_akas_func0()"
      ],
      "execution_count": 25,
      "outputs": [
        {
          "output_type": "stream",
          "text": [
            "There are 4084539 works in total\n",
            "On average, each work is available in 4.736 languages\n",
            "The relationship between the number of language versions and frequency is shown in the figure below\n"
          ],
          "name": "stdout"
        },
        {
          "output_type": "display_data",
          "data": {
            "image/png": "[encoded data removed]",
            "text/plain": [
              "<Figure size 432x288 with 1 Axes>"
            ]
          },
          "metadata": {
            "tags": [],
            "needs_background": "light"
          }
        },
        {
          "output_type": "stream",
          "text": [
            "Which regions usually have translations?\n"
          ],
          "name": "stdout"
        },
        {
          "output_type": "display_data",
          "data": {
            "image/png": "[encoded data removed]",
            "text/plain": [
              "<Figure size 432x288 with 1 Axes>"
            ]
          },
          "metadata": {
            "tags": [],
            "needs_background": "light"
          }
        },
        {
          "output_type": "stream",
          "text": [
            "Top ten most widely disseminated works:\n"
          ],
          "name": "stdout"
        },
        {
          "output_type": "display_data",
          "data": {
            "text/html": [
              "<div>\n",
              "<style scoped>\n",
              "    .dataframe tbody tr th:only-of-type {\n",
              "        vertical-align: middle;\n",
              "    }\n",
              "\n",
              "    .dataframe tbody tr th {\n",
              "        vertical-align: top;\n",
              "    }\n",
              "\n",
              "    .dataframe thead th {\n",
              "        text-align: right;\n",
              "    }\n",
              "</style>\n",
              "<table border=\"1\" class=\"dataframe\">\n",
              "  <thead>\n",
              "    <tr style=\"text-align: right;\">\n",
              "      <th></th>\n",
              "      <th>frequency</th>\n",
              "      <th>Title</th>\n",
              "    </tr>\n",
              "    <tr>\n",
              "      <th>titleId</th>\n",
              "      <th></th>\n",
              "      <th></th>\n",
              "    </tr>\n",
              "  </thead>\n",
              "  <tbody>\n",
              "    <tr>\n",
              "      <th>tt0168366</th>\n",
              "      <td>138</td>\n",
              "      <td>Poketto monsutâ</td>\n",
              "    </tr>\n",
              "    <tr>\n",
              "      <th>tt8185052</th>\n",
              "      <td>98</td>\n",
              "      <td>Mutant Virus</td>\n",
              "    </tr>\n",
              "    <tr>\n",
              "      <th>tt8052676</th>\n",
              "      <td>88</td>\n",
              "      <td>Superhero Landing</td>\n",
              "    </tr>\n",
              "    <tr>\n",
              "      <th>tt0076759</th>\n",
              "      <td>85</td>\n",
              "      <td>Star Wars</td>\n",
              "    </tr>\n",
              "    <tr>\n",
              "      <th>tt8187756</th>\n",
              "      <td>77</td>\n",
              "      <td>Game Over</td>\n",
              "    </tr>\n",
              "    <tr>\n",
              "      <th>tt8232202</th>\n",
              "      <td>76</td>\n",
              "      <td>Untitled Project</td>\n",
              "    </tr>\n",
              "    <tr>\n",
              "      <th>tt0060196</th>\n",
              "      <td>76</td>\n",
              "      <td>Il buono, il brutto, il cattivo</td>\n",
              "    </tr>\n",
              "    <tr>\n",
              "      <th>tt0080684</th>\n",
              "      <td>71</td>\n",
              "      <td>Star Wars: Episode V - The Empire Strikes Back</td>\n",
              "    </tr>\n",
              "    <tr>\n",
              "      <th>tt0057012</th>\n",
              "      <td>68</td>\n",
              "      <td>Dr. Strangelove or: How I Learned to Stop Worr...</td>\n",
              "    </tr>\n",
              "    <tr>\n",
              "      <th>tt0086190</th>\n",
              "      <td>68</td>\n",
              "      <td>Star Wars: Episode VI - Return of the Jedi</td>\n",
              "    </tr>\n",
              "  </tbody>\n",
              "</table>\n",
              "</div>"
            ],
            "text/plain": [
              "           frequency                                              Title\n",
              "titleId                                                                \n",
              "tt0168366        138                                    Poketto monsutâ\n",
              "tt8185052         98                                       Mutant Virus\n",
              "tt8052676         88                                  Superhero Landing\n",
              "tt0076759         85                                          Star Wars\n",
              "tt8187756         77                                          Game Over\n",
              "tt8232202         76                                   Untitled Project\n",
              "tt0060196         76                    Il buono, il brutto, il cattivo\n",
              "tt0080684         71     Star Wars: Episode V - The Empire Strikes Back\n",
              "tt0057012         68  Dr. Strangelove or: How I Learned to Stop Worr...\n",
              "tt0086190         68         Star Wars: Episode VI - Return of the Jedi"
            ]
          },
          "metadata": {
            "tags": []
          }
        },
        {
          "output_type": "stream",
          "text": [
            "Analysis of propagation paths using Aprior\n",
            "Aprior\n",
            "RelationRecord(items=frozenset({'imdbDisplay'}), support=0.47406192144256465, ordered_statistics=[OrderedStatistic(items_base=frozenset(), items_add=frozenset({'imdbDisplay'}), confidence=0.47406192144256465, lift=1.0)])\n",
            "RelationRecord(items=frozenset({'original'}), support=0.3701891623332363, ordered_statistics=[OrderedStatistic(items_base=frozenset(), items_add=frozenset({'original'}), confidence=0.3701891623332363, lift=1.0)])\n"
          ],
          "name": "stdout"
        }
      ]
    },
    {
      "cell_type": "markdown",
      "metadata": {
        "id": "tgPaqiDshiox"
      },
      "source": [
        "In table title_basics, We can get more information about the genre, and we can also know the productivity of works in each era."
      ]
    },
    {
      "cell_type": "code",
      "metadata": {
        "colab": {
          "base_uri": "https://localhost:8080/",
          "height": 666
        },
        "id": "14metOkehioy",
        "outputId": "eb13ee47-f7c4-46fc-af47-9d54d6f4ef98"
      },
      "source": [
        "def title_basics_func0():\n",
        "    title_basics['titleType'].value_counts().plot(kind='bar')\n",
        "    plt.xlabel('titleType')\n",
        "    plt.ylabel('nums')\n",
        "    print('The following are the different kinds of quantities')\n",
        "    plt.show()\n",
        "\n",
        "    _title_basics = title_basics[title_basics['startYear'] != '\\\\N']\n",
        "    _title_basics.loc[:, 'startYear'] = _title_basics.startYear.astype('int')\n",
        "    earest_year = _title_basics.startYear.min()\n",
        "    latest_year = _title_basics.startYear.max()\n",
        "    print('The earliest work was created in {}, and the latest will be in {}'.format(earest_year, latest_year))\n",
        "\n",
        "    print('From 1880 to 2020, the number of works per ten years is as follows:')\n",
        "    years = np.arange(1880, 2021, 10)\n",
        "    nums = [len(_title_basics[(year - 5) < _title_basics['startYear']][_title_basics['startYear'] < (year + 5)]) for year in years]\n",
        "    plt.bar(years, nums, width=5)\n",
        "    plt.xlabel('year')\n",
        "    plt.ylabel('nums')\n",
        "    plt.show()\n",
        "    \n",
        "    title_basics.loc[title_basics['runtimeMinutes'] == '\\\\N', 'runtimeMinutes'] = 0\n",
        "    new_title_basics = title_basics[['tconst', 'startYear', 'runtimeMinutes']]\n",
        "    return new_title_basics\n",
        "    \n",
        "new_title_basics = title_basics_func0()"
      ],
      "execution_count": 26,
      "outputs": [
        {
          "output_type": "stream",
          "text": [
            "The following are the different kinds of quantities\n"
          ],
          "name": "stdout"
        },
        {
          "output_type": "display_data",
          "data": {
            "image/png": "[encoded data removed]",
            "text/plain": [
              "<Figure size 432x288 with 1 Axes>"
            ]
          },
          "metadata": {
            "tags": [],
            "needs_background": "light"
          }
        },
        {
          "output_type": "stream",
          "text": [
            "The earliest work was created in 1874, and the latest will be in 2115\n",
            "From 1880 to 2020, the number of works per ten years is as follows:\n"
          ],
          "name": "stdout"
        },
        {
          "output_type": "display_data",
          "data": {
            "image/png": "[encoded data removed]",
            "text/plain": [
              "<Figure size 432x288 with 1 Axes>"
            ]
          },
          "metadata": {
            "tags": [],
            "needs_background": "light"
          }
        }
      ]
    },
    {
      "cell_type": "markdown",
      "metadata": {
        "id": "HSgbF4MKhioy"
      },
      "source": [
        "table 'title_principals', We can get the number of principals and the responsibilities of the highest priority principals for each work"
      ]
    },
    {
      "cell_type": "code",
      "metadata": {
        "tags": [],
        "colab": {
          "base_uri": "https://localhost:8080/"
        },
        "id": "dZ0sWbCGhioz",
        "outputId": "3fbf1baf-4098-48b1-d1ce-d57979328efd"
      },
      "source": [
        "tconst_name_dict = name_basics[['nconst', 'primaryName']].set_index('nconst').to_dict()['primaryName']\n",
        "nconst_title_dict = title_basics[['tconst', 'primaryTitle']].set_index('tconst').to_dict()['primaryTitle']\n",
        "tconst_nconst_dict = dict()\n",
        "for tconst, nconst in title_principals[['tconst', 'nconst']].values:\n",
        "    print('\\r{}'.format(len(tconst_nconst_dict)), end='')\n",
        "    try:\n",
        "        title = nconst_title_dict.get(tconst)\n",
        "        if not title:\n",
        "            continue\n",
        "        name = tconst_name_dict.get(nconst)\n",
        "        tconst_nconst_dict[title].append(name)\n",
        "    except KeyError:\n",
        "        tconst_nconst_dict[title] = [name]"
      ],
      "execution_count": 27,
      "outputs": [
        {
          "output_type": "stream",
          "text": [
            "2902686"
          ],
          "name": "stdout"
        }
      ]
    },
    {
      "cell_type": "markdown",
      "metadata": {
        "id": "NTJaMEXKhioz"
      },
      "source": [
        "Frequency Statistic"
      ]
    },
    {
      "cell_type": "code",
      "metadata": {
        "tags": [],
        "colab": {
          "base_uri": "https://localhost:8080/"
        },
        "id": "FukpRZDIhioz",
        "outputId": "df688226-ff4e-491e-aab2-615de022ed21"
      },
      "source": [
        "for i in range(10):\n",
        "    print(i + 1)\n",
        "    print(list(tconst_nconst_dict.keys())[i])\n",
        "    print(list(tconst_nconst_dict.values())[i])\n",
        "\n",
        "print('...')\n",
        "print('A total of {} pieces of valid data'.format(len(tconst_nconst_dict)))"
      ],
      "execution_count": 28,
      "outputs": [
        {
          "output_type": "stream",
          "text": [
            "1\n",
            "Carmencita\n",
            "['Carmencita', 'William K.L. Dickson', 'William Heise', 'Oskar Messter']\n",
            "2\n",
            "Le clown et ses chiens\n",
            "['Émile Reynaud', 'Gaston Paulin']\n",
            "3\n",
            "Pauvre Pierrot\n",
            "['Émile Reynaud', 'Julien Pappé', 'Gaston Paulin', 'Tamara Pappé']\n",
            "4\n",
            "Un bon bock\n",
            "['Émile Reynaud', 'Gaston Paulin']\n",
            "5\n",
            "Blacksmith Scene\n",
            "['Charles Kayser', 'John Ott', 'William K.L. Dickson', 'Thomas A. Edison', 'Louis Lumière']\n",
            "6\n",
            "Chinese Opium Den\n",
            "['William K.L. Dickson']\n",
            "7\n",
            "Corbett and Courtney Before the Kinetograph\n",
            "['James J. Corbett', 'Peter Courtney', 'William K.L. Dickson', 'William Heise', 'Thomas A. Edison']\n",
            "8\n",
            "Edison Kinetoscopic Record of a Sneeze\n",
            "['Fred Ott', 'William K.L. Dickson', 'William Heise']\n",
            "9\n",
            "Miss Jerry\n",
            "['Blanche Bayliss', 'William Courtenay', 'Chauncey Depew', 'Alexander Black']\n",
            "10\n",
            "Exiting the Factory\n",
            "['Louis Lumière']\n",
            "...\n",
            "A total of 2902686 pieces of valid data\n"
          ],
          "name": "stdout"
        }
      ]
    },
    {
      "cell_type": "code",
      "metadata": {
        "id": "5Vj2_J5Ghio0"
      },
      "source": [
        "nconst_dict = dict()\n",
        "for nconst in title_principals['nconst'].values:\n",
        "    try:\n",
        "        nconst_dict[nconst] += 1\n",
        "    except KeyError:\n",
        "        nconst_dict[nconst] = 1"
      ],
      "execution_count": 29,
      "outputs": []
    },
    {
      "cell_type": "code",
      "metadata": {
        "id": "sEzTrW50hio0"
      },
      "source": [
        "nconst_df = pd.DataFrame()\n",
        "nconst_df['nconst'] = nconst_dict.keys()\n",
        "nconst_df['frequency'] = nconst_dict.values()"
      ],
      "execution_count": 30,
      "outputs": []
    },
    {
      "cell_type": "code",
      "metadata": {
        "colab": {
          "base_uri": "https://localhost:8080/"
        },
        "id": "4rwKQ6rYhio0",
        "outputId": "84ef8c59-0479-458e-9c3c-5a08042d0e10"
      },
      "source": [
        "print('The ten most frequently appearing actors are as follows:')\n",
        "i = 0\n",
        "for nconst in nconst_df.sort_values('frequency', ascending=False).nconst.values:\n",
        "    profession = name_basics[name_basics['nconst'] == nconst].primaryProfession.item()\n",
        "    if ('actor' in profession) or ('actress' in profession):\n",
        "        i += 1\n",
        "        name = name_basics[name_basics['nconst'] == nconst].primaryName.item()\n",
        "        freq = nconst_df[nconst_df['nconst'] == nconst].frequency.item()\n",
        "        print('Rank: {}, Name: {}. Freq: {} times'.format(i, name, freq))\n",
        "        if i == 10:\n",
        "            break"
      ],
      "execution_count": 31,
      "outputs": [
        {
          "output_type": "stream",
          "text": [
            "The ten most frequently appearing actors are as follows:\n",
            "Rank: 1, Name: Tony Warren. Freq: 9892 times\n",
            "Rank: 2, Name: Johnny Gilbert. Freq: 8536 times\n",
            "Rank: 3, Name: Ernesto Alonso. Freq: 8415 times\n",
            "Rank: 4, Name: Delia Fiallo. Freq: 8408 times\n",
            "Rank: 5, Name: Alex Trebek. Freq: 8022 times\n",
            "Rank: 6, Name: Lee Phillip Bell. Freq: 7482 times\n",
            "Rank: 7, Name: Henrique Martins. Freq: 7182 times\n",
            "Rank: 8, Name: Pat Sajak. Freq: 7079 times\n",
            "Rank: 9, Name: Bob Barker. Freq: 7004 times\n",
            "Rank: 10, Name: Johnny Olson. Freq: 6945 times\n"
          ],
          "name": "stdout"
        }
      ]
    },
    {
      "cell_type": "code",
      "metadata": {
        "colab": {
          "base_uri": "https://localhost:8080/",
          "height": 721
        },
        "id": "KcYZXuHihio0",
        "outputId": "dd6d66f0-2322-4b7a-d862-ff2af80bb197"
      },
      "source": [
        "MIN_SUPP = 0.01\n",
        "MIN_CONF = 0.01\n",
        "MIN_LIFT = 0.01\n",
        "def title_principals_func0():\n",
        "    title_principals['category'].value_counts().plot(kind='bar')\n",
        "    plt.xlabel('category')\n",
        "    plt.ylabel('frequency')\n",
        "    print('Among them, the largest number of actors')\n",
        "    plt.show()\n",
        "    title_principals['nums_principals'] = 1\n",
        "    new_title_principals = title_principals[['tconst', 'nums_principals']].groupby('tconst').count()\n",
        "    print('On average, there are {} principals in charge of each work'.format(len(title_principals) / len(new_title_principals)))\n",
        "    \n",
        "    new_title_principals.value_counts().plot(kind='bar')\n",
        "    plt.ylabel('frequency')\n",
        "    print('The most occurring situation is that there are 10 principals')\n",
        "    plt.show()\n",
        "    \n",
        "    new_title_principals.reset_index(inplace=True)\n",
        "    \n",
        "#     tconst_nconst_dict = dict()\n",
        "#     for tconst, nconst in title_principals[['tconst', 'nconst']].values:\n",
        "#         try:\n",
        "#             tconst_nconst_dict[tconst].append(nconst)\n",
        "#         except KeyError:\n",
        "#             tconst_nconst_dict[tconst] = [nconst]\n",
        "\n",
        "#     print('Use Aprior to calculate the most frequently appearing people')\n",
        "#     res = apriori(transactions=tconst_nconst_dict.values(),\n",
        "#                   min_support=MIN_SUPP,\n",
        "#                   min_confidence=MIN_CONF,\n",
        "#                   min_lift=MIN_LIFT)\n",
        "#     print('Aprior')\n",
        "#     for rule in res:\n",
        "#         print(str(rule))\n",
        "        \n",
        "    return new_title_principals\n",
        "\n",
        "new_title_principals = title_principals_func0()"
      ],
      "execution_count": 32,
      "outputs": [
        {
          "output_type": "stream",
          "text": [
            "Among them, the largest number of actors\n"
          ],
          "name": "stdout"
        },
        {
          "output_type": "display_data",
          "data": {
            "image/png": "[encoded data removed]",
            "text/plain": [
              "<Figure size 432x288 with 1 Axes>"
            ]
          },
          "metadata": {
            "tags": [],
            "needs_background": "light"
          }
        },
        {
          "output_type": "stream",
          "text": [
            "On average, there are 6.391414072431944 principals in charge of each work\n",
            "The most occurring situation is that there are 10 principals\n"
          ],
          "name": "stdout"
        },
        {
          "output_type": "display_data",
          "data": {
            "image/png": "[encoded data removed]",
            "text/plain": [
              "<Figure size 432x288 with 1 Axes>"
            ]
          },
          "metadata": {
            "tags": [],
            "needs_background": "light"
          }
        }
      ]
    },
    {
      "cell_type": "markdown",
      "metadata": {
        "id": "tJa0dfMXhio1"
      },
      "source": [
        "In the table 'title_rating', we can see the scores and votes of different works"
      ]
    },
    {
      "cell_type": "code",
      "metadata": {
        "colab": {
          "base_uri": "https://localhost:8080/",
          "height": 592
        },
        "id": "6mzcBRY5hio2",
        "outputId": "0927fd81-a34b-4c1f-a45f-5b8ce120d308"
      },
      "source": [
        "def title_rating_func0():\n",
        "    print('The average score for all works is 7.1, and the average number of votes cast is 76 votes')\n",
        "    title_rating.describe()\n",
        "\n",
        "    plt.figure(figsize=(10, 4))\n",
        "    plt.bar(['0~9', '10~99', '100~999', '1000~9999', '10000~99999', '100000~999999'], \n",
        "            [\n",
        "                len(title_rating[\n",
        "                    title_rating['numVotes'] >= 0][title_rating['numVotes'] < 1e1]),\n",
        "                len(title_rating[\n",
        "                    title_rating['numVotes'] >= 1e1][title_rating['numVotes'] < 1e2]),\n",
        "                len(title_rating[\n",
        "                    title_rating['numVotes'] >= 1e2][title_rating['numVotes'] < 1e3]),\n",
        "                len(title_rating[\n",
        "                    title_rating['numVotes'] >= 1e3][title_rating['numVotes'] < 1e4]),\n",
        "                len(title_rating[\n",
        "                    title_rating['numVotes'] >= 1e4][title_rating['numVotes'] < 1e5]),\n",
        "                len(title_rating[\n",
        "                    title_rating['numVotes'] >= 1e5][title_rating['numVotes'] < 1e6]),\n",
        "            ]\n",
        "           )\n",
        "    plt.xlabel('numVotes')\n",
        "    plt.ylabel('numWorks')\n",
        "    print('But at this time we will find that only a few of the works have a lot of attention')\n",
        "    plt.show()\n",
        "\n",
        "    plt.figure(figsize=(10, 4))\n",
        "    plt.bar(['0~9', '10~99', '100~999', '1000~9999', '10000~99999', '100000~999999'], \n",
        "            [\n",
        "                title_rating[title_rating[\n",
        "                    'numVotes'] >= 0][title_rating['numVotes'] < 1e1].averageRating.mean(),\n",
        "                title_rating[title_rating[\n",
        "                    'numVotes'] >= 1e1][title_rating['numVotes'] < 1e2].averageRating.mean(),\n",
        "                title_rating[title_rating[\n",
        "                    'numVotes'] >= 1e2][title_rating['numVotes'] < 1e3].averageRating.mean(),\n",
        "                title_rating[title_rating[\n",
        "                    'numVotes'] >= 1e3][title_rating['numVotes'] < 1e4].averageRating.mean(),\n",
        "                title_rating[title_rating[\n",
        "                    'numVotes'] >= 1e4][title_rating['numVotes'] < 1e5].averageRating.mean(),\n",
        "                title_rating[title_rating[\n",
        "                    'numVotes'] >= 1e5][title_rating['numVotes'] < 1e6].averageRating.mean(),\n",
        "            ]\n",
        "           )\n",
        "    plt.xlabel('numVotes')\n",
        "    plt.ylabel('averageRating')\n",
        "    print('However there is no direct relationship between the number of voters and the score')\n",
        "    plt.show()\n",
        "    \n",
        "title_rating_func0()"
      ],
      "execution_count": 33,
      "outputs": [
        {
          "output_type": "stream",
          "text": [
            "The average score for all works is 7.1, and the average number of votes cast is 76 votes\n",
            "But at this time we will find that only a few of the works have a lot of attention\n"
          ],
          "name": "stdout"
        },
        {
          "output_type": "display_data",
          "data": {
            "image/png": "[encoded data removed]",
            "text/plain": [
              "<Figure size 720x288 with 1 Axes>"
            ]
          },
          "metadata": {
            "tags": [],
            "needs_background": "light"
          }
        },
        {
          "output_type": "stream",
          "text": [
            "However there is no direct relationship between the number of voters and the score\n"
          ],
          "name": "stdout"
        },
        {
          "output_type": "display_data",
          "data": {
            "image/png": "[encoded data removed]",
            "text/plain": [
              "<Figure size 720x288 with 1 Axes>"
            ]
          },
          "metadata": {
            "tags": [],
            "needs_background": "light"
          }
        }
      ]
    },
    {
      "cell_type": "code",
      "metadata": {
        "id": "75XGeAy4hio3"
      },
      "source": [
        "title_rating = pd.merge(left=title_rating, right=new_title_akas, how='left', on='tconst')\n",
        "title_rating = pd.merge(left=title_rating, right=new_title_basics, how='left', on='tconst')\n",
        "title_rating = pd.merge(left=title_rating, right=new_title_principals, how='left', on='tconst')"
      ],
      "execution_count": 34,
      "outputs": []
    },
    {
      "cell_type": "code",
      "metadata": {
        "id": "saeTLyWHhio3"
      },
      "source": [
        "title_rating.loc[title_rating['num_akas'].isnull(), 'num_akas'] = 0\n",
        "title_rating.loc[title_rating['nums_principals'].isnull(), 'nums_principals'] = 0"
      ],
      "execution_count": 35,
      "outputs": []
    },
    {
      "cell_type": "code",
      "metadata": {
        "id": "NUjiu5Ejhio4"
      },
      "source": [
        "def minmaxscaler(data):\n",
        "    min = np.amin(data)\n",
        "    max = np.amax(data)    \n",
        "    return (data - min)/(max-min)"
      ],
      "execution_count": 36,
      "outputs": []
    },
    {
      "cell_type": "code",
      "metadata": {
        "colab": {
          "base_uri": "https://localhost:8080/",
          "height": 419
        },
        "id": "GR40pLU0hio4",
        "outputId": "8f0aad9d-0858-494a-cc92-b0d40955bb89"
      },
      "source": [
        "title_rating"
      ],
      "execution_count": 37,
      "outputs": [
        {
          "output_type": "execute_result",
          "data": {
            "text/html": [
              "<div>\n",
              "<style scoped>\n",
              "    .dataframe tbody tr th:only-of-type {\n",
              "        vertical-align: middle;\n",
              "    }\n",
              "\n",
              "    .dataframe tbody tr th {\n",
              "        vertical-align: top;\n",
              "    }\n",
              "\n",
              "    .dataframe thead th {\n",
              "        text-align: right;\n",
              "    }\n",
              "</style>\n",
              "<table border=\"1\" class=\"dataframe\">\n",
              "  <thead>\n",
              "    <tr style=\"text-align: right;\">\n",
              "      <th></th>\n",
              "      <th>tconst</th>\n",
              "      <th>averageRating</th>\n",
              "      <th>numVotes</th>\n",
              "      <th>num_akas</th>\n",
              "      <th>startYear</th>\n",
              "      <th>runtimeMinutes</th>\n",
              "      <th>nums_principals</th>\n",
              "    </tr>\n",
              "  </thead>\n",
              "  <tbody>\n",
              "    <tr>\n",
              "      <th>0</th>\n",
              "      <td>tt0000001</td>\n",
              "      <td>5.6</td>\n",
              "      <td>1550</td>\n",
              "      <td>5.0</td>\n",
              "      <td>1894</td>\n",
              "      <td>1</td>\n",
              "      <td>3.0</td>\n",
              "    </tr>\n",
              "    <tr>\n",
              "      <th>1</th>\n",
              "      <td>tt0000002</td>\n",
              "      <td>6.1</td>\n",
              "      <td>186</td>\n",
              "      <td>6.0</td>\n",
              "      <td>1892</td>\n",
              "      <td>5</td>\n",
              "      <td>2.0</td>\n",
              "    </tr>\n",
              "    <tr>\n",
              "      <th>2</th>\n",
              "      <td>tt0000003</td>\n",
              "      <td>6.5</td>\n",
              "      <td>1207</td>\n",
              "      <td>6.0</td>\n",
              "      <td>1892</td>\n",
              "      <td>4</td>\n",
              "      <td>4.0</td>\n",
              "    </tr>\n",
              "    <tr>\n",
              "      <th>3</th>\n",
              "      <td>tt0000004</td>\n",
              "      <td>6.2</td>\n",
              "      <td>113</td>\n",
              "      <td>6.0</td>\n",
              "      <td>1892</td>\n",
              "      <td>0</td>\n",
              "      <td>2.0</td>\n",
              "    </tr>\n",
              "    <tr>\n",
              "      <th>4</th>\n",
              "      <td>tt0000005</td>\n",
              "      <td>6.1</td>\n",
              "      <td>1934</td>\n",
              "      <td>9.0</td>\n",
              "      <td>1893</td>\n",
              "      <td>1</td>\n",
              "      <td>4.0</td>\n",
              "    </tr>\n",
              "    <tr>\n",
              "      <th>...</th>\n",
              "      <td>...</td>\n",
              "      <td>...</td>\n",
              "      <td>...</td>\n",
              "      <td>...</td>\n",
              "      <td>...</td>\n",
              "      <td>...</td>\n",
              "      <td>...</td>\n",
              "    </tr>\n",
              "    <tr>\n",
              "      <th>993816</th>\n",
              "      <td>tt9916576</td>\n",
              "      <td>5.9</td>\n",
              "      <td>7</td>\n",
              "      <td>0.0</td>\n",
              "      <td>2019</td>\n",
              "      <td>85</td>\n",
              "      <td>2.0</td>\n",
              "    </tr>\n",
              "    <tr>\n",
              "      <th>993817</th>\n",
              "      <td>tt9916578</td>\n",
              "      <td>9.1</td>\n",
              "      <td>11</td>\n",
              "      <td>0.0</td>\n",
              "      <td>2019</td>\n",
              "      <td>0</td>\n",
              "      <td>10.0</td>\n",
              "    </tr>\n",
              "    <tr>\n",
              "      <th>993818</th>\n",
              "      <td>tt9916720</td>\n",
              "      <td>5.1</td>\n",
              "      <td>41</td>\n",
              "      <td>13.0</td>\n",
              "      <td>2019</td>\n",
              "      <td>10</td>\n",
              "      <td>7.0</td>\n",
              "    </tr>\n",
              "    <tr>\n",
              "      <th>993819</th>\n",
              "      <td>tt9916766</td>\n",
              "      <td>6.7</td>\n",
              "      <td>11</td>\n",
              "      <td>7.0</td>\n",
              "      <td>2019</td>\n",
              "      <td>43</td>\n",
              "      <td>10.0</td>\n",
              "    </tr>\n",
              "    <tr>\n",
              "      <th>993820</th>\n",
              "      <td>tt9916778</td>\n",
              "      <td>6.9</td>\n",
              "      <td>16</td>\n",
              "      <td>0.0</td>\n",
              "      <td>2019</td>\n",
              "      <td>0</td>\n",
              "      <td>0.0</td>\n",
              "    </tr>\n",
              "  </tbody>\n",
              "</table>\n",
              "<p>993821 rows × 7 columns</p>\n",
              "</div>"
            ],
            "text/plain": [
              "           tconst  averageRating  ...  runtimeMinutes  nums_principals\n",
              "0       tt0000001            5.6  ...               1              3.0\n",
              "1       tt0000002            6.1  ...               5              2.0\n",
              "2       tt0000003            6.5  ...               4              4.0\n",
              "3       tt0000004            6.2  ...               0              2.0\n",
              "4       tt0000005            6.1  ...               1              4.0\n",
              "...           ...            ...  ...             ...              ...\n",
              "993816  tt9916576            5.9  ...              85              2.0\n",
              "993817  tt9916578            9.1  ...               0             10.0\n",
              "993818  tt9916720            5.1  ...              10              7.0\n",
              "993819  tt9916766            6.7  ...              43             10.0\n",
              "993820  tt9916778            6.9  ...               0              0.0\n",
              "\n",
              "[993821 rows x 7 columns]"
            ]
          },
          "metadata": {
            "tags": []
          },
          "execution_count": 37
        }
      ]
    },
    {
      "cell_type": "code",
      "metadata": {
        "colab": {
          "base_uri": "https://localhost:8080/",
          "height": 173
        },
        "id": "nJcOWnkfhio4",
        "outputId": "1cc328fd-816f-4a03-edbe-1fbb33d3616a"
      },
      "source": [
        "minmaxscaler(title_rating[['averageRating', 'numVotes', 'num_akas', 'startYear', 'runtimeMinutes' ,'nums_principals']]).corr()"
      ],
      "execution_count": 38,
      "outputs": [
        {
          "output_type": "execute_result",
          "data": {
            "text/html": [
              "<div>\n",
              "<style scoped>\n",
              "    .dataframe tbody tr th:only-of-type {\n",
              "        vertical-align: middle;\n",
              "    }\n",
              "\n",
              "    .dataframe tbody tr th {\n",
              "        vertical-align: top;\n",
              "    }\n",
              "\n",
              "    .dataframe thead th {\n",
              "        text-align: right;\n",
              "    }\n",
              "</style>\n",
              "<table border=\"1\" class=\"dataframe\">\n",
              "  <thead>\n",
              "    <tr style=\"text-align: right;\">\n",
              "      <th></th>\n",
              "      <th>averageRating</th>\n",
              "      <th>numVotes</th>\n",
              "      <th>num_akas</th>\n",
              "      <th>nums_principals</th>\n",
              "    </tr>\n",
              "  </thead>\n",
              "  <tbody>\n",
              "    <tr>\n",
              "      <th>averageRating</th>\n",
              "      <td>1.000000</td>\n",
              "      <td>0.013370</td>\n",
              "      <td>-0.124740</td>\n",
              "      <td>-0.006211</td>\n",
              "    </tr>\n",
              "    <tr>\n",
              "      <th>numVotes</th>\n",
              "      <td>0.013370</td>\n",
              "      <td>1.000000</td>\n",
              "      <td>0.363062</td>\n",
              "      <td>0.033773</td>\n",
              "    </tr>\n",
              "    <tr>\n",
              "      <th>num_akas</th>\n",
              "      <td>-0.124740</td>\n",
              "      <td>0.363062</td>\n",
              "      <td>1.000000</td>\n",
              "      <td>0.125222</td>\n",
              "    </tr>\n",
              "    <tr>\n",
              "      <th>nums_principals</th>\n",
              "      <td>-0.006211</td>\n",
              "      <td>0.033773</td>\n",
              "      <td>0.125222</td>\n",
              "      <td>1.000000</td>\n",
              "    </tr>\n",
              "  </tbody>\n",
              "</table>\n",
              "</div>"
            ],
            "text/plain": [
              "                 averageRating  numVotes  num_akas  nums_principals\n",
              "averageRating         1.000000  0.013370 -0.124740        -0.006211\n",
              "numVotes              0.013370  1.000000  0.363062         0.033773\n",
              "num_akas             -0.124740  0.363062  1.000000         0.125222\n",
              "nums_principals      -0.006211  0.033773  0.125222         1.000000"
            ]
          },
          "metadata": {
            "tags": []
          },
          "execution_count": 38
        }
      ]
    }
  ]
}