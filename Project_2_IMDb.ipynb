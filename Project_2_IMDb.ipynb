{
  "nbformat": 4,
  "nbformat_minor": 0,
  "metadata": {
    "colab": {
      "name": "Project 2- IMDb.ipynb",
      "provenance": [],
      "collapsed_sections": [],
      "machine_shape": "hm",
      "include_colab_link": true
    },
    "kernelspec": {
      "display_name": "Python 3",
      "language": "python",
      "name": "python3"
    },
    "language_info": {
      "codemirror_mode": {
        "name": "ipython",
        "version": 3
      },
      "file_extension": ".py",
      "mimetype": "text/x-python",
      "name": "python",
      "nbconvert_exporter": "python",
      "pygments_lexer": "ipython3",
      "version": "3.8.3"
    }
  },
  "cells": [
    {
      "cell_type": "markdown",
      "metadata": {
        "id": "view-in-github",
        "colab_type": "text"
      },
      "source": [
        "<a href=\"https://colab.research.google.com/github/ShaokangYANG/IMDB/blob/main/Project_2_IMDb.ipynb\" target=\"_parent\"><img src=\"https://colab.research.google.com/assets/colab-badge.svg\" alt=\"Open In Colab\"/></a>"
      ]
    },
    {
      "cell_type": "markdown",
      "metadata": {
        "id": "DyuLW6LChion"
      },
      "source": [
        "### 1. Download dataset frome Kaggle"
      ]
    },
    {
      "cell_type": "code",
      "metadata": {
        "colab": {
          "resources": {
            "http://localhost:8080/nbextensions/google.colab/files.js": {
              "data": "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",
              "ok": true,
              "headers": [
                [
                  "content-type",
                  "application/javascript"
                ]
              ],
              "status": 200,
              "status_text": ""
            }
          },
          "base_uri": "https://localhost:8080/",
          "height": 89
        },
        "id": "5YmDvHM6hioo",
        "outputId": "6ed258e0-0e5c-4d27-bddb-a556037a36d1"
      },
      "source": [
        "from google.colab import files\n",
        "files.upload() #upload kaggle.json"
      ],
      "execution_count": 1,
      "outputs": [
        {
          "output_type": "display_data",
          "data": {
            "text/html": [
              "\n",
              "     <input type=\"file\" id=\"files-9b031ab2-a752-406d-bcc6-b7a6c27f4820\" name=\"files[]\" multiple disabled\n",
              "        style=\"border:none\" />\n",
              "     <output id=\"result-9b031ab2-a752-406d-bcc6-b7a6c27f4820\">\n",
              "      Upload widget is only available when the cell has been executed in the\n",
              "      current browser session. Please rerun this cell to enable.\n",
              "      </output>\n",
              "      <script src=\"/nbextensions/google.colab/files.js\"></script> "
            ],
            "text/plain": [
              "<IPython.core.display.HTML object>"
            ]
          },
          "metadata": {
            "tags": []
          }
        },
        {
          "output_type": "stream",
          "text": [
            "Saving kaggle.json to kaggle.json\n"
          ],
          "name": "stdout"
        },
        {
          "output_type": "execute_result",
          "data": {
            "text/plain": [
              "{'kaggle.json': b'{\"username\":\"mountainsky\",\"key\":\"210d17aaec699030b82766a96422d60c\"}'}"
            ]
          },
          "metadata": {
            "tags": []
          },
          "execution_count": 1
        }
      ]
    },
    {
      "cell_type": "code",
      "metadata": {
        "colab": {
          "base_uri": "https://localhost:8080/"
        },
        "id": "wGASNtsR9oDq",
        "outputId": "b565ffcd-5e93-4529-d3c9-a216a10bc643"
      },
      "source": [
        "!mkdir -p ~/.kaggle\n",
        "!cp kaggle.json ~/.kaggle/\n",
        "\n",
        "!chmod 600 ~/.kaggle/kaggle.json\n",
        "!kaggle datasets download -d ashirwadsangwan/imdb-dataset"
      ],
      "execution_count": 2,
      "outputs": [
        {
          "output_type": "stream",
          "text": [
            "Downloading imdb-dataset.zip to /content\n",
            "100% 1.43G/1.44G [00:12<00:00, 127MB/s]\n",
            "100% 1.44G/1.44G [00:12<00:00, 126MB/s]\n"
          ],
          "name": "stdout"
        }
      ]
    },
    {
      "cell_type": "markdown",
      "metadata": {
        "id": "0wiWuEE5hioq"
      },
      "source": [
        "### 2. Unzip files\n",
        "Get all the files in the compressed package\n",
        "\n",
        "Unzip files in a loop to the specified directory\n",
        "\n",
        "Close the file and free up memory\n"
      ]
    },
    {
      "cell_type": "code",
      "metadata": {
        "colab": {
          "base_uri": "https://localhost:8080/"
        },
        "id": "HIy2-oe2hv9R",
        "outputId": "bb8c7238-b07c-4275-e784-6b0c680cae76"
      },
      "source": [
        "from zipfile import ZipFile\n",
        "file_name = \"imdb-dataset.zip\"\n",
        "\n",
        "with ZipFile(file_name, \"r\") as zip:\n",
        "  zip.extractall()\n",
        "  print(\"The dataset has been unzipped\")"
      ],
      "execution_count": 3,
      "outputs": [
        {
          "output_type": "stream",
          "text": [
            "The dataset has been unzipped\n"
          ],
          "name": "stdout"
        }
      ]
    },
    {
      "cell_type": "code",
      "metadata": {
        "colab": {
          "base_uri": "https://localhost:8080/"
        },
        "id": "65HtvUGih8a-",
        "outputId": "0ffa50a0-0e3f-4b2c-d75b-9103f6d2a067"
      },
      "source": [
        "!ls"
      ],
      "execution_count": 4,
      "outputs": [
        {
          "output_type": "stream",
          "text": [
            "imdb-dataset.zip    title.akas.tsv\t  title.principals.tsv.gz\n",
            "kaggle.json\t    title.akas.tsv.gz\t  title.ratings.tsv\n",
            "name.basics.tsv     title.basics.tsv\t  title.ratings.tsv.gz\n",
            "name.basics.tsv.gz  title.basics.tsv.gz\n",
            "sample_data\t    title.principals.tsv\n"
          ],
          "name": "stdout"
        }
      ]
    },
    {
      "cell_type": "code",
      "metadata": {
        "colab": {
          "base_uri": "https://localhost:8080/"
        },
        "id": "eOEHSdJmwGpQ",
        "outputId": "69e0dc31-e64d-4399-8a3a-51003ac6f930"
      },
      "source": [
        "!pip install pyspark"
      ],
      "execution_count": 5,
      "outputs": [
        {
          "output_type": "stream",
          "text": [
            "Collecting pyspark\n",
            "\u001b[?25l  Downloading https://files.pythonhosted.org/packages/89/db/e18cfd78e408de957821ec5ca56de1250645b05f8523d169803d8df35a64/pyspark-3.1.2.tar.gz (212.4MB)\n",
            "\u001b[K     |████████████████████████████████| 212.4MB 45kB/s \n",
            "\u001b[?25hCollecting py4j==0.10.9\n",
            "\u001b[?25l  Downloading https://files.pythonhosted.org/packages/9e/b6/6a4fb90cd235dc8e265a6a2067f2a2c99f0d91787f06aca4bcf7c23f3f80/py4j-0.10.9-py2.py3-none-any.whl (198kB)\n",
            "\u001b[K     |████████████████████████████████| 204kB 19.2MB/s \n",
            "\u001b[?25hBuilding wheels for collected packages: pyspark\n",
            "  Building wheel for pyspark (setup.py) ... \u001b[?25l\u001b[?25hdone\n",
            "  Created wheel for pyspark: filename=pyspark-3.1.2-py2.py3-none-any.whl size=212880768 sha256=9db73bd2d06d66f2dd124f4041b58636a0e9a5585a3dd2e8bde78a6faa8bd57f\n",
            "  Stored in directory: /root/.cache/pip/wheels/40/1b/2c/30f43be2627857ab80062bef1527c0128f7b4070b6b2d02139\n",
            "Successfully built pyspark\n",
            "Installing collected packages: py4j, pyspark\n",
            "Successfully installed py4j-0.10.9 pyspark-3.1.2\n"
          ],
          "name": "stdout"
        }
      ]
    },
    {
      "cell_type": "markdown",
      "metadata": {
        "id": "CApup4Ushior"
      },
      "source": [
        "Print all tsv files"
      ]
    },
    {
      "cell_type": "code",
      "metadata": {
        "colab": {
          "base_uri": "https://localhost:8080/"
        },
        "id": "E1Wp7Xk_hior",
        "outputId": "cc29ae8f-4ef8-47b5-adaf-f49aadde6071"
      },
      "source": [
        "import os\n",
        "all_files = os.listdir()\n",
        "print([csv_file for csv_file in all_files if '.tsv' == csv_file[-4:]])"
      ],
      "execution_count": 6,
      "outputs": [
        {
          "output_type": "stream",
          "text": [
            "['name.basics.tsv', 'title.basics.tsv', 'title.principals.tsv', 'title.ratings.tsv', 'title.akas.tsv']\n"
          ],
          "name": "stdout"
        }
      ]
    },
    {
      "cell_type": "markdown",
      "metadata": {
        "id": "2HypTtrDhios"
      },
      "source": [
        "### 3. Load data & Overview"
      ]
    },
    {
      "cell_type": "code",
      "metadata": {
        "id": "XHMJ9Fmmhiot"
      },
      "source": [
        "import pandas as pd\n",
        "import numpy as np\n",
        "import warnings\n",
        "warnings.filterwarnings(\"ignore\")\n",
        "\n",
        "from pyspark import SparkConf, SparkContext\n",
        "from pyspark.sql import SparkSession\n",
        "from pyspark.sql.functions import collect_set, col, count\n",
        "from pyspark.sql import SQLContext"
      ],
      "execution_count": 7,
      "outputs": []
    },
    {
      "cell_type": "code",
      "metadata": {
        "id": "xrXS-_sKwkb1"
      },
      "source": [
        "conf = SparkConf().setAppName(\"MarketBasket\")\n",
        "conf = (conf.setMaster('local[*]')\n",
        "        .set('spark.executor.memory', '4G')\n",
        "        .set('spark.driver.memory', '45G')\n",
        "        .set('spark.default.parallelism',24)\n",
        "        .set('spark.driver.maxResultSize', '10G'))\n",
        "sc = SparkContext(conf=conf)"
      ],
      "execution_count": 8,
      "outputs": []
    },
    {
      "cell_type": "code",
      "metadata": {
        "id": "PwlIzT3MvcQd"
      },
      "source": [
        "name_basics = 'name.basics.tsv.gz'\n",
        "name_basics = pd.read_csv(name_basics, sep = '\\t', low_memory=True)\n",
        "\n",
        "title_akas = 'title.akas.tsv.gz'\n",
        "title_akas = pd.read_csv(title_akas, sep = '\\t', low_memory=True)\n",
        "\n",
        "title_basics ='title.basics.tsv.gz'\n",
        "title_basics = pd.read_csv(title_basics, sep = '\\t', low_memory=True)\n",
        "\n",
        "title_principals='title.principals.tsv.gz'\n",
        "title_principals = pd.read_csv(title_principals,sep = '\\t', low_memory=True)\n",
        "\n",
        "title_rating='title.ratings.tsv.gz'\n",
        "title_rating = pd.read_csv(title_rating, sep = '\\t', low_memory=True)\n"
      ],
      "execution_count": 9,
      "outputs": []
    },
    {
      "cell_type": "code",
      "metadata": {
        "colab": {
          "base_uri": "https://localhost:8080/"
        },
        "id": "kCALi2Wnhiot",
        "outputId": "ab2994a7-5fff-40d9-eeb6-e031a2f047a0"
      },
      "source": [
        "print('Shape, Columns: \\n')\n",
        "print('name_basics: {}, \\n{} \\n'.format(name_basics.shape, name_basics.columns))\n",
        "print('title_akas: {}, \\n{} \\n'.format(title_akas.shape, title_akas.columns))\n",
        "print('title_basics: {}, \\n{} \\n'.format(title_basics.shape, title_basics.columns))\n",
        "print('title_principals: {}, \\n{} \\n'.format(title_principals.shape, title_principals.columns))\n",
        "print('title_rating: {}, \\n{} \\n'.format(title_rating.shape, title_rating.columns))"
      ],
      "execution_count": 10,
      "outputs": [
        {
          "output_type": "stream",
          "text": [
            "Shape, Columns: \n",
            "\n",
            "name_basics: (9711022, 6), \n",
            "Index(['nconst', 'primaryName', 'birthYear', 'deathYear', 'primaryProfession',\n",
            "       'knownForTitles'],\n",
            "      dtype='object') \n",
            "\n",
            "title_akas: (19344171, 8), \n",
            "Index(['titleId', 'ordering', 'title', 'region', 'language', 'types',\n",
            "       'attributes', 'isOriginalTitle'],\n",
            "      dtype='object') \n",
            "\n",
            "title_basics: (6326545, 9), \n",
            "Index(['tconst', 'titleType', 'primaryTitle', 'originalTitle', 'isAdult',\n",
            "       'startYear', 'endYear', 'runtimeMinutes', 'genres'],\n",
            "      dtype='object') \n",
            "\n",
            "title_principals: (36499704, 6), \n",
            "Index(['tconst', 'ordering', 'nconst', 'category', 'job', 'characters'], dtype='object') \n",
            "\n",
            "title_rating: (993821, 3), \n",
            "Index(['tconst', 'averageRating', 'numVotes'], dtype='object') \n",
            "\n"
          ],
          "name": "stdout"
        }
      ]
    },
    {
      "cell_type": "markdown",
      "metadata": {
        "id": "HfK6wFuMhiou"
      },
      "source": [
        "### 4. Data Analytics in Macro Level\n",
        "Table 'name_basics' contains information about the personnel involved, including nconst, primaryName, birthYear, deathYear, primaryProfession, knownForTitles.\n",
        "\n",
        "First calculate how many functions there are and draw a picture"
      ]
    },
    {
      "cell_type": "code",
      "metadata": {
        "id": "4ja9FwHShiou"
      },
      "source": [
        "import matplotlib.pyplot as plt"
      ],
      "execution_count": 11,
      "outputs": []
    },
    {
      "cell_type": "code",
      "metadata": {
        "colab": {
          "base_uri": "https://localhost:8080/",
          "height": 288
        },
        "id": "ue0ahHuahiou",
        "outputId": "3574d94e-7b58-48c5-d835-211df41db3c7"
      },
      "source": [
        "def name_basics_func0():\n",
        "    primaryProfession = name_basics['primaryProfession'].dropna()\n",
        "    name_basics['primaryProfession'] = name_basics['primaryProfession'].astype('str')\n",
        "    num_individual_profession = name_basics['primaryProfession'].map(lambda x: len(x.split(',')))\n",
        "    name_basics['num_individual_profession'] = num_individual_profession\n",
        "    name_basics['num_individual_profession'].value_counts().plot(kind='bar')\n",
        "    plt.xlabel('num_individual_profession')\n",
        "    plt.ylabel('frequency')\n",
        "    plt.show()\n",
        "    new_name_basics0 = name_basics[['birthYear', 'num_individual_profession']]\n",
        "    return new_name_basics0\n",
        "\n",
        "new_name_basics0 = name_basics_func0()"
      ],
      "execution_count": 12,
      "outputs": [
        {
          "output_type": "display_data",
          "data": {
            "image/png": "[encoded data removed]",
            "text/plain": [
              "<Figure size 432x288 with 1 Axes>"
            ]
          },
          "metadata": {
            "tags": [],
            "needs_background": "light"
          }
        }
      ]
    },
    {
      "cell_type": "code",
      "metadata": {
        "colab": {
          "base_uri": "https://localhost:8080/"
        },
        "id": "NS-aRfzz7XV_",
        "outputId": "5e0d2d17-9c66-4db8-cbe8-3947d39be099"
      },
      "source": [
        "! pip install apyori\n",
        "from apyori import apriori"
      ],
      "execution_count": 13,
      "outputs": [
        {
          "output_type": "stream",
          "text": [
            "Collecting apyori\n",
            "  Downloading https://files.pythonhosted.org/packages/5e/62/5ffde5c473ea4b033490617ec5caa80d59804875ad3c3c57c0976533a21a/apyori-1.1.2.tar.gz\n",
            "Building wheels for collected packages: apyori\n",
            "  Building wheel for apyori (setup.py) ... \u001b[?25l\u001b[?25hdone\n",
            "  Created wheel for apyori: filename=apyori-1.1.2-cp37-none-any.whl size=5975 sha256=90e4930777ebf6b7b13524e3446463651363284f4a840bb58265c47c0c6a4141\n",
            "  Stored in directory: /root/.cache/pip/wheels/5d/92/bb/474bbadbc8c0062b9eb168f69982a0443263f8ab1711a8cad0\n",
            "Successfully built apyori\n",
            "Installing collected packages: apyori\n",
            "Successfully installed apyori-1.1.2\n"
          ],
          "name": "stdout"
        }
      ]
    },
    {
      "cell_type": "markdown",
      "metadata": {
        "id": "6nI88AJQhiov"
      },
      "source": [
        "Calculate and plot the frequency of various occupations"
      ]
    },
    {
      "cell_type": "code",
      "metadata": {
        "colab": {
          "base_uri": "https://localhost:8080/",
          "height": 710
        },
        "id": "GSkUPgvNhiov",
        "outputId": "d156c5cd-91d4-4350-8c52-ea186dcc6c89"
      },
      "source": [
        "def name_basics_func1():\n",
        "    frequency_profession_dict = dict()\n",
        "    for primaryProfession in name_basics['primaryProfession']:\n",
        "        for pro in primaryProfession.split(','):\n",
        "            if pro == 'nan':\n",
        "                continue\n",
        "            try:\n",
        "                frequency_profession_dict[pro] += 1\n",
        "            except KeyError:\n",
        "                frequency_profession_dict[pro] = 1\n",
        "\n",
        "    frequency_profession_df = pd.DataFrame(frequency_profession_dict.values(),\n",
        "                                           index=frequency_profession_dict.keys(),\n",
        "                                           columns=['frequency']).sort_values('frequency', ascending=False)\n",
        "    frequency_profession_df.plot(kind='barh', figsize=(10, 10))\n",
        "    plt.show()\n",
        "    \n",
        "    res = apriori(name_basics[name_basics['primaryProfession'] != 'nan']['primaryProfession'].map(lambda x: x.split(',')).values)\n",
        "    print('Aprior')\n",
        "    for rule in res:\n",
        "        print(str(rule))\n",
        "    return frequency_profession_df\n",
        "    \n",
        "    \n",
        "frequency_profession_df = name_basics_func1()"
      ],
      "execution_count": 14,
      "outputs": [
        {
          "output_type": "display_data",
          "data": {
            "image/png": "[encoded data removed]",
            "text/plain": [
              "<Figure size 720x720 with 1 Axes>"
            ]
          },
          "metadata": {
            "tags": [],
            "needs_background": "light"
          }
        },
        {
          "output_type": "stream",
          "text": [
            "Aprior\n",
            "RelationRecord(items=frozenset({'actor'}), support=0.29146703106806504, ordered_statistics=[OrderedStatistic(items_base=frozenset(), items_add=frozenset({'actor'}), confidence=0.29146703106806504, lift=1.0)])\n",
            "RelationRecord(items=frozenset({'actress'}), support=0.17475387990800134, ordered_statistics=[OrderedStatistic(items_base=frozenset(), items_add=frozenset({'actress'}), confidence=0.17475387990800134, lift=1.0)])\n",
            "RelationRecord(items=frozenset({'miscellaneous'}), support=0.1301110227651442, ordered_statistics=[OrderedStatistic(items_base=frozenset(), items_add=frozenset({'miscellaneous'}), confidence=0.1301110227651442, lift=1.0)])\n",
            "RelationRecord(items=frozenset({'producer'}), support=0.1090734250988492, ordered_statistics=[OrderedStatistic(items_base=frozenset(), items_add=frozenset({'producer'}), confidence=0.1090734250988492, lift=1.0)])\n"
          ],
          "name": "stdout"
        }
      ]
    },
    {
      "cell_type": "markdown",
      "metadata": {
        "id": "tgPaqiDshiox"
      },
      "source": [
        "In table title_basics, We can get more information about the genre, and we can also know the productivity of works in each era."
      ]
    },
    {
      "cell_type": "code",
      "metadata": {
        "colab": {
          "base_uri": "https://localhost:8080/",
          "height": 666
        },
        "id": "14metOkehioy",
        "outputId": "9884987e-7ddf-4839-9a25-f4a0dc86b636"
      },
      "source": [
        "def title_basics_func0():\n",
        "    title_basics['titleType'].value_counts().plot(kind='bar')\n",
        "    plt.xlabel('titleType')\n",
        "    plt.ylabel('nums')\n",
        "    print('The following are the different kinds of quantities')\n",
        "    plt.show()\n",
        "\n",
        "    _title_basics = title_basics[title_basics['startYear'] != '\\\\N']\n",
        "    _title_basics.loc[:, 'startYear'] = _title_basics.startYear.astype('int')\n",
        "    earest_year = _title_basics.startYear.min()\n",
        "    latest_year = _title_basics.startYear.max()\n",
        "    print('The earliest work was created in {}, and the latest will be in {}'.format(earest_year, latest_year))\n",
        "\n",
        "    print('From 1880 to 2020, the number of works per ten years is as follows:')\n",
        "    years = np.arange(1880, 2021, 10)\n",
        "    nums = [len(_title_basics[(year - 5) < _title_basics['startYear']][_title_basics['startYear'] < (year + 5)]) for year in years]\n",
        "    plt.bar(years, nums, width=5)\n",
        "    plt.xlabel('year')\n",
        "    plt.ylabel('nums')\n",
        "    plt.show()\n",
        "    \n",
        "    title_basics.loc[title_basics['runtimeMinutes'] == '\\\\N', 'runtimeMinutes'] = 0\n",
        "    new_title_basics = title_basics[['tconst', 'startYear', 'runtimeMinutes']]\n",
        "    return new_title_basics\n",
        "    \n",
        "new_title_basics = title_basics_func0()"
      ],
      "execution_count": 16,
      "outputs": [
        {
          "output_type": "stream",
          "text": [
            "The following are the different kinds of quantities\n"
          ],
          "name": "stdout"
        },
        {
          "output_type": "display_data",
          "data": {
            "image/png": "[encoded data removed]",
            "text/plain": [
              "<Figure size 432x288 with 1 Axes>"
            ]
          },
          "metadata": {
            "tags": [],
            "needs_background": "light"
          }
        },
        {
          "output_type": "stream",
          "text": [
            "The earliest work was created in 1874, and the latest will be in 2115\n",
            "From 1880 to 2020, the number of works per ten years is as follows:\n"
          ],
          "name": "stdout"
        },
        {
          "output_type": "display_data",
          "data": {
            "image/png": "[encoded data removed]",
            "text/plain": [
              "<Figure size 432x288 with 1 Axes>"
            ]
          },
          "metadata": {
            "tags": [],
            "needs_background": "light"
          }
        }
      ]
    },
    {
      "cell_type": "markdown",
      "metadata": {
        "id": "NTJaMEXKhioz"
      },
      "source": [
        "Frequency Statistic"
      ]
    },
    {
      "cell_type": "code",
      "metadata": {
        "colab": {
          "base_uri": "https://localhost:8080/"
        },
        "id": "FukpRZDIhioz",
        "outputId": "1fb402f8-3e01-4f5a-bda4-c3965f6f1275"
      },
      "source": [
        "for i in range(10):\n",
        "    print(i + 1)\n",
        "    print(list(tconst_nconst_dict.keys())[i])\n",
        "    print(list(tconst_nconst_dict.values())[i])\n",
        "\n",
        "print('...')\n",
        "print('A total of {} pieces of valid data'.format(len(tconst_nconst_dict)))"
      ],
      "execution_count": 18,
      "outputs": [
        {
          "output_type": "stream",
          "text": [
            "1\n",
            "Carmencita\n",
            "['Carmencita', 'William K.L. Dickson', 'William Heise']\n",
            "2\n",
            "Le clown et ses chiens\n",
            "['Émile Reynaud', 'Gaston Paulin']\n",
            "3\n",
            "Pauvre Pierrot\n",
            "['Émile Reynaud', 'Julien Pappé', 'Gaston Paulin', 'Tamara Pappé']\n",
            "4\n",
            "Un bon bock\n",
            "['Émile Reynaud', 'Gaston Paulin']\n",
            "5\n",
            "Blacksmith Scene\n",
            "['Charles Kayser', 'John Ott', 'William K.L. Dickson', 'Thomas A. Edison', 'Louis Lumière']\n",
            "6\n",
            "Chinese Opium Den\n",
            "['William K.L. Dickson']\n",
            "7\n",
            "Corbett and Courtney Before the Kinetograph\n",
            "['James J. Corbett', 'Peter Courtney', 'William K.L. Dickson', 'William Heise', 'Thomas A. Edison']\n",
            "8\n",
            "Edison Kinetoscopic Record of a Sneeze\n",
            "['Fred Ott', 'William K.L. Dickson', 'William Heise']\n",
            "9\n",
            "Miss Jerry\n",
            "['Blanche Bayliss', 'William Courtenay', 'Chauncey Depew', 'Alexander Black']\n",
            "10\n",
            "Exiting the Factory\n",
            "['Louis Lumière']\n",
            "...\n",
            "A total of 326181 pieces of valid data\n"
          ],
          "name": "stdout"
        }
      ]
    },
    {
      "cell_type": "code",
      "metadata": {
        "id": "5Vj2_J5Ghio0"
      },
      "source": [
        "nconst_dict = dict()\n",
        "for nconst in title_principals['nconst'].values:\n",
        "    try:\n",
        "        nconst_dict[nconst] += 1\n",
        "    except KeyError:\n",
        "        nconst_dict[nconst] = 1"
      ],
      "execution_count": 20,
      "outputs": []
    },
    {
      "cell_type": "code",
      "metadata": {
        "id": "sEzTrW50hio0"
      },
      "source": [
        "nconst_df = pd.DataFrame()\n",
        "nconst_df['nconst'] = nconst_dict.keys()\n",
        "nconst_df['frequency'] = nconst_dict.values()"
      ],
      "execution_count": 21,
      "outputs": []
    },
    {
      "cell_type": "code",
      "metadata": {
        "colab": {
          "base_uri": "https://localhost:8080/"
        },
        "id": "4rwKQ6rYhio0",
        "outputId": "3b7a264c-89b2-4d75-e471-d639471c54cc"
      },
      "source": [
        "print('The ten most frequently appearing actors are as follows:')\n",
        "i = 0\n",
        "for nconst in nconst_df.sort_values('frequency', ascending=False).nconst.values:\n",
        "    profession = name_basics[name_basics['nconst'] == nconst].primaryProfession.item()\n",
        "    if ('actor' in profession) or ('actress' in profession):\n",
        "        i += 1\n",
        "        name = name_basics[name_basics['nconst'] == nconst].primaryName.item()\n",
        "        freq = nconst_df[nconst_df['nconst'] == nconst].frequency.item()\n",
        "        print('Rank: {}, Name: {}. Freq: {} times'.format(i, name, freq))\n",
        "        if i == 10:\n",
        "            break"
      ],
      "execution_count": 22,
      "outputs": [
        {
          "output_type": "stream",
          "text": [
            "The ten most frequently appearing actors are as follows:\n",
            "Rank: 1, Name: Tony Warren. Freq: 9892 times\n",
            "Rank: 2, Name: Johnny Gilbert. Freq: 8536 times\n",
            "Rank: 3, Name: Ernesto Alonso. Freq: 8415 times\n",
            "Rank: 4, Name: Delia Fiallo. Freq: 8408 times\n",
            "Rank: 5, Name: Alex Trebek. Freq: 8022 times\n",
            "Rank: 6, Name: Lee Phillip Bell. Freq: 7482 times\n",
            "Rank: 7, Name: Henrique Martins. Freq: 7182 times\n",
            "Rank: 8, Name: Pat Sajak. Freq: 7079 times\n",
            "Rank: 9, Name: Bob Barker. Freq: 7004 times\n",
            "Rank: 10, Name: Johnny Olson. Freq: 6945 times\n"
          ],
          "name": "stdout"
        }
      ]
    },
    {
      "cell_type": "markdown",
      "metadata": {
        "id": "dBQVs-73p-iT"
      },
      "source": [
        "###5.Market Basket Analysis\n",
        "####5.1 Data Preparation"
      ]
    },
    {
      "cell_type": "markdown",
      "metadata": {
        "id": "-bOcO3T3pUUM"
      },
      "source": [
        "**title_basics contains the movie information**"
      ]
    },
    {
      "cell_type": "code",
      "metadata": {
        "colab": {
          "base_uri": "https://localhost:8080/"
        },
        "id": "7WCMPKxaf6Tk",
        "outputId": "7d0f8f77-93fa-4e24-a0e2-d2b1d14ac99c"
      },
      "source": [
        "sqlContext = SQLContext(sc)\n",
        "\n",
        "title_basics = 'title.basics.tsv.gz'\n",
        "title_basics = sqlContext.read.csv(title_basics, header=True, sep = '\\t')\n",
        "title_basics.show(10) # see what the table looks like originally\n",
        "\n",
        "# there are 'short' 'video' in titleType, keep 'movie' only\n",
        "title_basics = title_basics.filter((title_basics.titleType == \"movie\"))\n",
        "title_basics.show(10) # see what the table looks like after filtering"
      ],
      "execution_count": null,
      "outputs": [
        {
          "output_type": "stream",
          "text": [
            "+---------+---------+--------------------+--------------------+-------+---------+-------+--------------+--------------------+\n",
            "|   tconst|titleType|        primaryTitle|       originalTitle|isAdult|startYear|endYear|runtimeMinutes|              genres|\n",
            "+---------+---------+--------------------+--------------------+-------+---------+-------+--------------+--------------------+\n",
            "|tt0000001|    short|          Carmencita|          Carmencita|      0|     1894|     \\N|             1|   Documentary,Short|\n",
            "|tt0000002|    short|Le clown et ses c...|Le clown et ses c...|      0|     1892|     \\N|             5|     Animation,Short|\n",
            "|tt0000003|    short|      Pauvre Pierrot|      Pauvre Pierrot|      0|     1892|     \\N|             4|Animation,Comedy,...|\n",
            "|tt0000004|    short|         Un bon bock|         Un bon bock|      0|     1892|     \\N|            \\N|     Animation,Short|\n",
            "|tt0000005|    short|    Blacksmith Scene|    Blacksmith Scene|      0|     1893|     \\N|             1|        Comedy,Short|\n",
            "|tt0000006|    short|   Chinese Opium Den|   Chinese Opium Den|      0|     1894|     \\N|             1|               Short|\n",
            "|tt0000007|    short|Corbett and Court...|Corbett and Court...|      0|     1894|     \\N|             1|         Short,Sport|\n",
            "|tt0000008|    short|Edison Kinetoscop...|Edison Kinetoscop...|      0|     1894|     \\N|             1|   Documentary,Short|\n",
            "|tt0000009|    movie|          Miss Jerry|          Miss Jerry|      0|     1894|     \\N|            45|             Romance|\n",
            "|tt0000010|    short| Exiting the Factory|La sortie de l'us...|      0|     1895|     \\N|             1|   Documentary,Short|\n",
            "+---------+---------+--------------------+--------------------+-------+---------+-------+--------------+--------------------+\n",
            "only showing top 10 rows\n",
            "\n",
            "+---------+---------+--------------------+--------------------+-------+---------+-------+--------------+--------------------+\n",
            "|   tconst|titleType|        primaryTitle|       originalTitle|isAdult|startYear|endYear|runtimeMinutes|              genres|\n",
            "+---------+---------+--------------------+--------------------+-------+---------+-------+--------------+--------------------+\n",
            "|tt0000009|    movie|          Miss Jerry|          Miss Jerry|      0|     1894|     \\N|            45|             Romance|\n",
            "|tt0000147|    movie|The Corbett-Fitzs...|The Corbett-Fitzs...|      0|     1897|     \\N|            20|Documentary,News,...|\n",
            "|tt0000335|    movie|Soldiers of the C...|Soldiers of the C...|      0|     1900|     \\N|            \\N|     Biography,Drama|\n",
            "|tt0000502|    movie|            Bohemios|            Bohemios|      0|     1905|     \\N|           100|                  \\N|\n",
            "|tt0000574|    movie|The Story of the ...|The Story of the ...|      0|     1906|     \\N|            70|Biography,Crime,D...|\n",
            "|tt0000615|    movie|  Robbery Under Arms|  Robbery Under Arms|      0|     1907|     \\N|            \\N|               Drama|\n",
            "|tt0000630|    movie|              Hamlet|              Amleto|      0|     1908|     \\N|            \\N|               Drama|\n",
            "|tt0000675|    movie|         Don Quijote|         Don Quijote|      0|     1908|     \\N|            \\N|               Drama|\n",
            "|tt0000676|    movie|Don Álvaro o la f...|Don Álvaro o la f...|      0|     1908|     \\N|            \\N|               Drama|\n",
            "|tt0000679|    movie|The Fairylogue an...|The Fairylogue an...|      0|     1908|     \\N|           120|   Adventure,Fantasy|\n",
            "+---------+---------+--------------------+--------------------+-------+---------+-------+--------------+--------------------+\n",
            "only showing top 10 rows\n",
            "\n"
          ],
          "name": "stdout"
        }
      ]
    },
    {
      "cell_type": "markdown",
      "metadata": {
        "id": "8HpQ-oAQpb7T"
      },
      "source": [
        "***names.basic contains the actors information***"
      ]
    },
    {
      "cell_type": "code",
      "metadata": {
        "colab": {
          "base_uri": "https://localhost:8080/"
        },
        "id": "PTHNJS0QgCAh",
        "outputId": "9441eadc-4fe2-4931-8c35-935c14cbf3db"
      },
      "source": [
        "name_basics = 'name.basics.tsv.gz'\n",
        "name_basics = sqlContext.read.csv(name_basics, header=True, sep = '\\t')\n",
        "name_basics.show(10) # see what the table looks like "
      ],
      "execution_count": null,
      "outputs": [
        {
          "output_type": "stream",
          "text": [
            "+---------+---------------+---------+---------+--------------------+--------------------+\n",
            "|   nconst|    primaryName|birthYear|deathYear|   primaryProfession|      knownForTitles|\n",
            "+---------+---------------+---------+---------+--------------------+--------------------+\n",
            "|nm0000001|   Fred Astaire|     1899|     1987|soundtrack,actor,...|tt0050419,tt00531...|\n",
            "|nm0000002|  Lauren Bacall|     1924|     2014|  actress,soundtrack|tt0117057,tt00373...|\n",
            "|nm0000003|Brigitte Bardot|     1934|       \\N|actress,soundtrac...|tt0049189,tt00599...|\n",
            "|nm0000004|   John Belushi|     1949|     1982|actor,writer,soun...|tt0078723,tt00804...|\n",
            "|nm0000005| Ingmar Bergman|     1918|     2007|writer,director,a...|tt0050986,tt00839...|\n",
            "|nm0000006| Ingrid Bergman|     1915|     1982|actress,soundtrac...|tt0077711,tt00387...|\n",
            "|nm0000007|Humphrey Bogart|     1899|     1957|actor,soundtrack,...|tt0033870,tt00373...|\n",
            "|nm0000008|  Marlon Brando|     1924|     2004|actor,soundtrack,...|tt0078788,tt00708...|\n",
            "|nm0000009| Richard Burton|     1925|     1984|actor,producer,so...|tt0059749,tt00611...|\n",
            "|nm0000010|   James Cagney|     1899|     1986|actor,soundtrack,...|tt0031867,tt00298...|\n",
            "+---------+---------------+---------+---------+--------------------+--------------------+\n",
            "only showing top 10 rows\n",
            "\n"
          ],
          "name": "stdout"
        }
      ]
    },
    {
      "cell_type": "markdown",
      "metadata": {
        "id": "SymnpeXjpiUc"
      },
      "source": [
        "***title_principals contains the principal cast/crew for titles, which is necessary to extract movie and actors information.***"
      ]
    },
    {
      "cell_type": "code",
      "metadata": {
        "colab": {
          "base_uri": "https://localhost:8080/"
        },
        "id": "f6QCVI9KgEgW",
        "outputId": "c694e1eb-bf9e-49f5-e2ba-2acc459f0b26"
      },
      "source": [
        "title_principals = 'title.principals.tsv.gz'\n",
        "title_principals = sqlContext.read.csv(title_principals, header=True, sep = '\\t')\n",
        "title_principals.show(10) # see what the table looks like originally\n",
        "\n",
        "title_principals = title_principals.filter((title_principals.category == \"actor\") | (title_principals.category == \"actress\")) # keep only actor and actress\n",
        "title_principals = title_principals.select(col(\"tconst\"),col(\"nconst\")) # select movie id and actor id \n",
        "title_principals.show(10) # see what the table looks like after filtering"
      ],
      "execution_count": null,
      "outputs": [
        {
          "output_type": "stream",
          "text": [
            "+---------+--------+---------+---------------+--------------------+-----------+\n",
            "|   tconst|ordering|   nconst|       category|                 job| characters|\n",
            "+---------+--------+---------+---------------+--------------------+-----------+\n",
            "|tt0000001|       1|nm1588970|           self|                  \\N|[\"Herself\"]|\n",
            "|tt0000001|       2|nm0005690|       director|                  \\N|         \\N|\n",
            "|tt0000001|       3|nm0374658|cinematographer|director of photo...|         \\N|\n",
            "|tt0000002|       1|nm0721526|       director|                  \\N|         \\N|\n",
            "|tt0000002|       2|nm1335271|       composer|                  \\N|         \\N|\n",
            "|tt0000003|       1|nm0721526|       director|                  \\N|         \\N|\n",
            "|tt0000003|       2|nm5442194|       producer|            producer|         \\N|\n",
            "|tt0000003|       3|nm1335271|       composer|                  \\N|         \\N|\n",
            "|tt0000003|       4|nm5442200|         editor|                  \\N|         \\N|\n",
            "|tt0000004|       1|nm0721526|       director|                  \\N|         \\N|\n",
            "+---------+--------+---------+---------------+--------------------+-----------+\n",
            "only showing top 10 rows\n",
            "\n",
            "+---------+---------+\n",
            "|   tconst|   nconst|\n",
            "+---------+---------+\n",
            "|tt0000005|nm0443482|\n",
            "|tt0000005|nm0653042|\n",
            "|tt0000007|nm0179163|\n",
            "|tt0000007|nm0183947|\n",
            "|tt0000008|nm0653028|\n",
            "|tt0000009|nm0063086|\n",
            "|tt0000009|nm0183823|\n",
            "|tt0000009|nm1309758|\n",
            "|tt0000011|nm3692297|\n",
            "|tt0000014|nm0166380|\n",
            "+---------+---------+\n",
            "only showing top 10 rows\n",
            "\n"
          ],
          "name": "stdout"
        }
      ]
    },
    {
      "cell_type": "code",
      "metadata": {
        "colab": {
          "base_uri": "https://localhost:8080/"
        },
        "id": "ZfQXE3xkgG8u",
        "outputId": "c62744ad-64af-4fe2-8277-036149ff7492"
      },
      "source": [
        "title_principals = title_principals.join(title_basics, [\"tconst\"])\n",
        "title_principals.show(10) # print example"
      ],
      "execution_count": null,
      "outputs": [
        {
          "output_type": "stream",
          "text": [
            "+---------+---------+---------+--------------------+--------------------+-------+---------+-------+--------------+------+\n",
            "|   tconst|   nconst|titleType|        primaryTitle|       originalTitle|isAdult|startYear|endYear|runtimeMinutes|genres|\n",
            "+---------+---------+---------+--------------------+--------------------+-------+---------+-------+--------------+------+\n",
            "|tt0002591|nm0029806|    movie|             Zu spät|             Zu spät|      0|     1912|     \\N|            \\N|    \\N|\n",
            "|tt0002591|nm0509573|    movie|             Zu spät|             Zu spät|      0|     1912|     \\N|            \\N|    \\N|\n",
            "|tt0003689|nm0694718|    movie|          Born Again|          Born Again|      0|     1914|     \\N|            \\N| Drama|\n",
            "|tt0003689|nm0101071|    movie|          Born Again|          Born Again|      0|     1914|     \\N|            \\N| Drama|\n",
            "|tt0003689|nm0910564|    movie|          Born Again|          Born Again|      0|     1914|     \\N|            \\N| Drama|\n",
            "|tt0003689|nm0527801|    movie|          Born Again|          Born Again|      0|     1914|     \\N|            \\N| Drama|\n",
            "|tt0003689|nm0585503|    movie|          Born Again|          Born Again|      0|     1914|     \\N|            \\N| Drama|\n",
            "|tt0003689|nm0728289|    movie|          Born Again|          Born Again|      0|     1914|     \\N|            \\N| Drama|\n",
            "|tt0003689|nm0399988|    movie|          Born Again|          Born Again|      0|     1914|     \\N|            \\N| Drama|\n",
            "|tt0004272|nm0368875|    movie|Lucille Love: The...|Lucille Love: The...|      0|     1914|     \\N|           300|Action|\n",
            "+---------+---------+---------+--------------------+--------------------+-------+---------+-------+--------------+------+\n",
            "only showing top 10 rows\n",
            "\n"
          ],
          "name": "stdout"
        }
      ]
    },
    {
      "cell_type": "markdown",
      "metadata": {
        "id": "rOmr-7yTpo-S"
      },
      "source": [
        "Now I have three tables: title_basics with only movie information, name_basics with only actor informaiton, title_principals with information of principal cast in a movie.\n",
        "\n",
        "####5.2A-prior Algorithm "
      ]
    },
    {
      "cell_type": "code",
      "metadata": {
        "id": "PrrQUwXDgJWn"
      },
      "source": [
        "import itertools"
      ],
      "execution_count": null,
      "outputs": []
    },
    {
      "cell_type": "code",
      "metadata": {
        "id": "24rNpn1egLu7"
      },
      "source": [
        "def sum(a,b):\n",
        "  return a+b\n",
        "\n",
        "# To see if a set of items is a subset of a basket.\n",
        "def check_subset(rddlist, filt):\n",
        "  for item in filt:\n",
        "    if set(list(item)).issubset(set(rddlist)):\n",
        "      return ((item, 1))"
      ],
      "execution_count": null,
      "outputs": []
    },
    {
      "cell_type": "code",
      "metadata": {
        "id": "fkelxpeugOvA"
      },
      "source": [
        "def apriori(rdd, threshold):\n",
        "  \n",
        "  flat_list  = rdd.flatMap(list) \n",
        "\n",
        "  singleton = flat_list.map(lambda item: (item , 1)) #Everytime when each actor appearences, add 'one'\n",
        "  singleton_summed = singleton.reduceByKey(sum) #Sum of values by actor as key\n",
        "  singleton_filtered = singleton_summed.filter(lambda item: item[1] >= threshold ) #consider items that appear singularly in a certain number of time that is larger than the threshold in the baskets.\n",
        "\n",
        "  #Acquire a list of the codes of the items\n",
        "  frequent_actors = singleton_filtered.map(lambda item: (item[0]))\n",
        "\n",
        "  #Acquire all the pairs of frequent items:\n",
        "  pairs_list = list(itertools.combinations(frequent_actors.toLocalIterator(),2))\n",
        "\n",
        "  #Make the support table for the pairs of items by applying the filtering function previously created.\n",
        "  support_table_pairs = rdd.map(lambda x : check_subset(x, pairs_list)).filter(lambda x: x is not None).cache() #Use filtering function to check if a pairs appear in the movies\n",
        "  support_table_pairs_summed = support_table_pairs.reduceByKey(sum) # sum of values by actor as key\n",
        "  support_table_pairs_filtered = support_table_pairs_summed.filter(lambda item: item[1] >= threshold) #Check the situation when only actor that performed in more than support value\n",
        "\n",
        "  return (support_table_pairs_filtered)"
      ],
      "execution_count": null,
      "outputs": []
    },
    {
      "cell_type": "markdown",
      "metadata": {
        "id": "sR-pIGi6pttp"
      },
      "source": [
        "####5.3 SON Algorithm Implementation and Result"
      ]
    },
    {
      "cell_type": "code",
      "metadata": {
        "colab": {
          "base_uri": "https://localhost:8080/"
        },
        "id": "NRRRn8ecgRnk",
        "outputId": "f98c0fcb-47ca-4c90-9def-1f01f21dec39"
      },
      "source": [
        "#Make a list containing baskets: each movie is a basket and it is a list containing the actors that performed in that film\n",
        "baskets = title_principals.groupBy(\"tconst\").agg(collect_set(\"nconst\").alias(\"actors\"))\n",
        "\n",
        "#Acquire the list of baskets containing actors divided by movies\n",
        "basket_list = baskets.select('actors').rdd.flatMap(list)\n",
        "\n",
        "#Parallelize the list in RDD\n",
        "basket_list = sc.parallelize(basket_list.collect(),10)\n",
        "\n",
        "print(basket_list.collect()[:10]) #print example of ten lists"
      ],
      "execution_count": null,
      "outputs": [
        {
          "output_type": "stream",
          "text": [
            "[['nm0029806', 'nm0509573'], ['nm0910564', 'nm0527801', 'nm0399988', 'nm0101071', 'nm0694718', 'nm0728289', 'nm0585503'], ['nm0368875', 'nm0092665', 'nm0492302', 'nm0445507', 'nm0776747', 'nm0383278', 'nm0192062', 'nm0285643', 'nm0793189'], ['nm0268437', 'nm0811293', 'nm0102718', 'nm0190516', 'nm0478359'], ['nm0593671', 'nm0394389', 'nm0203439', 'nm0909648', 'nm0863863', 'nm0269671'], ['nm0075601', 'nm0364218', 'nm0668525', 'nm0322794', 'nm0304236', 'nm0061746'], ['nm0606530', 'nm0493083'], ['nm0071601', 'nm0071618', 'nm0673814', 'nm0507655', 'nm0000909', 'nm0607056', 'nm0071992', 'nm0000910'], ['nm0356267', 'nm0235634', 'nm0285950', 'nm0183994', 'nm0135474', 'nm0512164'], ['nm0546121', 'nm0909648', 'nm0668084', 'nm0455748']]\n"
          ],
          "name": "stdout"
        }
      ]
    },
    {
      "cell_type": "code",
      "metadata": {
        "colab": {
          "base_uri": "https://localhost:8080/"
        },
        "id": "5deQd75tgTjh",
        "outputId": "17523ca4-b856-4fcf-8243-f9afa85403f8"
      },
      "source": [
        "minSupport = 100\n",
        "numPartitions = basket_list.getNumPartitions() #Set partition number (10)\n",
        "adjSupport = minSupport/numPartitions\n",
        "adjSupport"
      ],
      "execution_count": null,
      "outputs": [
        {
          "output_type": "execute_result",
          "data": {
            "text/plain": [
              "10.0"
            ]
          },
          "metadata": {
            "tags": []
          },
          "execution_count": 19
        }
      ]
    },
    {
      "cell_type": "code",
      "metadata": {
        "id": "ewF12zJmF-cH"
      },
      "source": [
        "candidates = sc.parallelize([]) #Make a RDD to merge the result of apriori applied on each chunk.\n",
        "\n",
        "for i in range(0, numPartitions-1):\n",
        "  \n",
        "  partition = sc.parallelize(basket_list.glom().collect()[i]) #Collect every chunk\n",
        "  support_table_pairs_filtered = apriori(partition, adjSupport)\n",
        "  candidate_chunk = support_table_pairs_filtered.map(lambda item: (item[0],1))\n",
        "  candidates = candidates.union(candidate_chunk)"
      ],
      "execution_count": null,
      "outputs": []
    },
    {
      "cell_type": "code",
      "metadata": {
        "colab": {
          "background_save": true
        },
        "id": "vgK7UAjKGGs1",
        "outputId": "efd2c611-5337-4ce4-f838-23bce1355c83"
      },
      "source": [
        "print(candidates.collect()[:10]) #print example, it can be time-consuming"
      ],
      "execution_count": null,
      "outputs": [
        {
          "output_type": "stream",
          "text": [
            "[(('nm2384746', 'nm2366585'), 1), (('nm2373718', 'nm0648803'), 1), (('nm0409049', 'nm0289960'), 1), (('nm2373718', 'nm0648803'), 1), (('nm1984183', 'nm1990182'), 1), (('nm0355653', 'nm0329832'), 1), (('nm2373718', 'nm0648803'), 1), (('nm2384746', 'nm2366585'), 1), (('nm2373718', 'nm0648803'), 1), (('nm2373718', 'nm0648803'), 1)]\n"
          ],
          "name": "stdout"
        }
      ]
    },
    {
      "cell_type": "code",
      "metadata": {
        "colab": {
          "background_save": true
        },
        "id": "CERCrVb9GfNS",
        "outputId": "4da2e2d6-ddba-41fd-db94-76f96e1eb716"
      },
      "source": [
        "#Find frequent items and convert the RDD to dataframe\n",
        "deptColumns = [\"actor_pair\",\"movies\"]\n",
        "candidates_set = candidates.toDF(deptColumns)\n",
        "candidates_set.createOrReplaceTempView(\"candidates_set\")\n",
        "sqlContext.sql(\"SELECT * FROM candidates_set ORDER BY movies DESC\").show(truncate = False)"
      ],
      "execution_count": null,
      "outputs": [
        {
          "output_type": "stream",
          "text": [
            "+----------------------+------+\n",
            "|actor_pair            |movies|\n",
            "+----------------------+------+\n",
            "|{nm2384746, nm2366585}|1     |\n",
            "|{nm2373718, nm0648803}|1     |\n",
            "|{nm0409049, nm0289960}|1     |\n",
            "|{nm2373718, nm0648803}|1     |\n",
            "|{nm1984183, nm1990182}|1     |\n",
            "|{nm0355653, nm0329832}|1     |\n",
            "|{nm2373718, nm0648803}|1     |\n",
            "|{nm2384746, nm2366585}|1     |\n",
            "|{nm2373718, nm0648803}|1     |\n",
            "|{nm2373718, nm0648803}|1     |\n",
            "+----------------------+------+\n",
            "\n"
          ],
          "name": "stdout"
        }
      ]
    }
  ]
}